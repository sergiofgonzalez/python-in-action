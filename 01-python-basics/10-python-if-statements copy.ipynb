{
 "metadata": {
  "language_info": {
   "codemirror_mode": {
    "name": "ipython",
    "version": 3
   },
   "file_extension": ".py",
   "mimetype": "text/x-python",
   "name": "python",
   "nbconvert_exporter": "python",
   "pygments_lexer": "ipython3",
   "version": "3.8.3-final"
  },
  "orig_nbformat": 2,
  "kernelspec": {
   "name": "python3",
   "display_name": "Python 3.8.3 64-bit ('base': conda)",
   "metadata": {
    "interpreter": {
     "hash": "ead85409a3df2736fa4852a03cf3afe7e5b1dbdc0e40d7d22bbcbf8cf1adf5fa"
    }
   }
  }
 },
 "nbformat": 4,
 "nbformat_minor": 2,
 "cells": [
  {
   "source": [
    "# Python in Action\n",
    "## Part 1: Python Fundamentals\n",
    "### 10 &mdash; If Control Statements\n",
    "> branching execution flow with `if`\n"
   ],
   "cell_type": "markdown",
   "metadata": {}
  },
  {
   "source": [
    "#### if\n",
    "\n",
    "if works in the same way as in other programming languages, with the only difference that blocks of code are controlled by the indentation level, and the particular Python syntax:\n"
   ],
   "cell_type": "markdown",
   "metadata": {}
  },
  {
   "cell_type": "code",
   "execution_count": 2,
   "metadata": {},
   "outputs": [
    {
     "output_type": "stream",
     "name": "stdout",
     "text": [
      "condition was true\nstill within the true block\nOutside of the if\n"
     ]
    }
   ],
   "source": [
    "condition = True\n",
    "\n",
    "if condition == True:\n",
    "    print('condition was true')\n",
    "    print('still within the true block')\n",
    "else:\n",
    "    print('condition was false')\n",
    "    print('this would be executed if condition was False')\n",
    "\n",
    "print('Outside of the if')"
   ]
  },
  {
   "source": [
    "Python also supports `elif` to implement else if branching:"
   ],
   "cell_type": "markdown",
   "metadata": {}
  },
  {
   "cell_type": "code",
   "execution_count": 3,
   "metadata": {},
   "outputs": [
    {
     "output_type": "stream",
     "name": "stdout",
     "text": [
      "number must be three\n"
     ]
    }
   ],
   "source": [
    "number = 3\n",
    "\n",
    "if number == 1:\n",
    "    print('the number was one')\n",
    "elif number == 2:\n",
    "    print('the number was two')\n",
    "else:\n",
    "    print('number must be three')"
   ]
  },
  {
   "source": [
    "There is a variant of `if` that returns a value (sometimes known as the *ternary operator*), which in Python is just an *inline if*:"
   ],
   "cell_type": "markdown",
   "metadata": {}
  },
  {
   "cell_type": "code",
   "execution_count": 2,
   "metadata": {},
   "outputs": [
    {
     "output_type": "stream",
     "name": "stdout",
     "text": [
      "Hello to Jason\nHello, world!!!\n"
     ]
    }
   ],
   "source": [
    "name = 'Jason Isaacs'\n",
    "\n",
    "greeting = 'Hello to Jason' if name == 'Jason Isaacs' else 'Hello, world!!!'\n",
    "print(greeting)\n",
    "\n",
    "name = 'Sergio'\n",
    "greeting = 'Hello to Jason' if name == 'Jason Isaacs' else 'Hello, world!!!'\n",
    "print(greeting)"
   ]
  }
 ]
}