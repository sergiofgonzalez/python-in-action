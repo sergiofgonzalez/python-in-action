{
 "metadata": {
  "language_info": {
   "codemirror_mode": {
    "name": "ipython",
    "version": 3
   },
   "file_extension": ".py",
   "mimetype": "text/x-python",
   "name": "python",
   "nbconvert_exporter": "python",
   "pygments_lexer": "ipython3",
   "version": "3.8.3-final"
  },
  "orig_nbformat": 2,
  "kernelspec": {
   "name": "python3",
   "display_name": "Python 3.8.3 64-bit ('base': conda)",
   "metadata": {
    "interpreter": {
     "hash": "ead85409a3df2736fa4852a03cf3afe7e5b1dbdc0e40d7d22bbcbf8cf1adf5fa"
    }
   }
  }
 },
 "nbformat": 4,
 "nbformat_minor": 2,
 "cells": [
  {
   "source": [
    "# Python in Action\n",
    "## Part 1: Python Fundamentals\n",
    "### 02 &mdash; Python Data Types\n",
    "> first steps into Python data types"
   ],
   "cell_type": "markdown",
   "metadata": {}
  },
  {
   "source": [
    "#### Built-in data types\n",
    "\n",
    "Types in Python are assigned to variables at the time of creation. You can check the type of the variable using `type(var)` or `isinstance(var, type)`"
   ],
   "cell_type": "markdown",
   "metadata": {}
  },
  {
   "cell_type": "code",
   "execution_count": 1,
   "metadata": {},
   "outputs": [
    {
     "output_type": "execute_result",
     "data": {
      "text/plain": [
       "str"
      ]
     },
     "metadata": {},
     "execution_count": 1
    }
   ],
   "source": [
    "name = \"Jason Isaacs\"\n",
    "type(name)"
   ]
  },
  {
   "cell_type": "code",
   "execution_count": 2,
   "metadata": {},
   "outputs": [
    {
     "output_type": "execute_result",
     "data": {
      "text/plain": [
       "True"
      ]
     },
     "metadata": {},
     "execution_count": 2
    }
   ],
   "source": [
    "name = \"Jason Isaacs\"\n",
    "type(name) == str"
   ]
  },
  {
   "cell_type": "code",
   "execution_count": 3,
   "metadata": {},
   "outputs": [
    {
     "output_type": "execute_result",
     "data": {
      "text/plain": [
       "True"
      ]
     },
     "metadata": {},
     "execution_count": 3
    }
   ],
   "source": [
    "name = \"Jason Isaacs\"\n",
    "isinstance(name, str)"
   ]
  },
  {
   "source": [
    "The same approach used above can be used for the other built-in types:\n",
    "+ `str` for the String class\n",
    "+ `int` for integer numbers\n",
    "+ `float` for floating numbers\n",
    "+ `complex` for complex numbers\n",
    "+ `bool` for booleans\n",
    "+ `list` for lists\n",
    "+ `tuple` for tuples\n",
    "+ `range` for ranges\n",
    "+ `dict` for dictionaries\n",
    "+ `set` for sets\n"
   ],
   "cell_type": "markdown",
   "metadata": {}
  },
  {
   "source": [
    "Python has *type inference*, and therefore, you do not need to declare the type of a variable.\n",
    "\n",
    "However, you can force a variable to be of same specific type using:"
   ],
   "cell_type": "markdown",
   "metadata": {}
  },
  {
   "cell_type": "code",
   "execution_count": 7,
   "metadata": {},
   "outputs": [
    {
     "output_type": "stream",
     "name": "stdout",
     "text": [
      "20\n"
     ]
    },
    {
     "output_type": "execute_result",
     "data": {
      "text/plain": [
       "False"
      ]
     },
     "metadata": {},
     "execution_count": 7
    }
   ],
   "source": [
    "ageStr = str(\"20\")\n",
    "print(ageStr)\n",
    "\n",
    "isinstance(ageStr, int)"
   ]
  }
 ]
}