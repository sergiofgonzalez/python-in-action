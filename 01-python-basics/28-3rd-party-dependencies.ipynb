{
 "metadata": {
  "language_info": {
   "codemirror_mode": {
    "name": "ipython",
    "version": 3
   },
   "file_extension": ".py",
   "mimetype": "text/x-python",
   "name": "python",
   "nbconvert_exporter": "python",
   "pygments_lexer": "ipython3",
   "version": "3.8.3-final"
  },
  "orig_nbformat": 2,
  "kernelspec": {
   "name": "python383jvsc74a57bd0ead85409a3df2736fa4852a03cf3afe7e5b1dbdc0e40d7d22bbcbf8cf1adf5fa",
   "display_name": "Python 3.8.3 64-bit ('base': conda)"
  }
 },
 "nbformat": 4,
 "nbformat_minor": 2,
 "cells": [
  {
   "source": [
    "# Python in Action\n",
    "## Part 1: Python Fundamentals\n",
    "### 28 &mdash; 3rd party dependency management in Python\n",
    "> "
   ],
   "cell_type": "markdown",
   "metadata": {}
  },
  {
   "source": [
    "#### PyPI and `pip`"
   ],
   "cell_type": "markdown",
   "metadata": {}
  },
  {
   "source": [
    "Python package index (PyPI, pronounce pie-pee-eye) is a repository with a large collection of 3rd party packages that can be installed usin `pip` tool."
   ],
   "cell_type": "markdown",
   "metadata": {}
  },
  {
   "source": [
    "Packages can be installed typing:\n",
    "\n",
    "```bash\n",
    "# short form\n",
    "pip install <package_name>\n",
    "\n",
    "# long form, when above fails\n",
    "python -m pip install <package_name>\n",
    "```"
   ],
   "cell_type": "markdown",
   "metadata": {}
  },
  {
   "source": [
    "The exact location where packages are installed depend on the Operation System, but you can use `pip show` to get the specific location of an installed package, along with some additional information:\n",
    "\n",
    "```bash\n",
    "$ pip show pylint\n",
    "Name: pylint\n",
    "Version: 2.5.3\n",
    "Summary: python code static checker\n",
    "Home-page: https://github.com/PyCQA/pylint\n",
    "Author: Python Code Quality Authority\n",
    "Author-email: code-quality@python.org\n",
    "License: GPL\n",
    "Location: /home/ubuntu/anaconda3/lib/python3.8/site-packages\n",
    "Requires: astroid, isort, mccabe, toml\n",
    "Required-by: spyder\n",
    "```"
   ],
   "cell_type": "markdown",
   "metadata": {}
  },
  {
   "source": [
    "Additional paths that might be used for package managers can be found by typing:\n",
    "\n",
    "```python\n",
    "$ $ python -m site\n",
    "sys.path = [\n",
    "    '/home/ubuntu/python-in-action',\n",
    "    '/home/ubuntu/anaconda3/lib/python38.zip',\n",
    "    '/home/ubuntu/anaconda3/lib/python3.8',\n",
    "    '/home/ubuntu/anaconda3/lib/python3.8/lib-dynload',\n",
    "    '/home/ubuntu/anaconda3/lib/python3.8/site-packages',\n",
    "]\n",
    "USER_BASE: '/home/ubuntu/.local' (exists)\n",
    "USER_SITE: '/home/ubuntu/.local/lib/python3.8/site-packages' (doesn't exist)\n",
    "ENABLE_USER_SITE: True\n",
    "```"
   ],
   "cell_type": "markdown",
   "metadata": {}
  },
  {
   "source": [
    "Specific versions of a package can be installed using:\n",
    "\n",
    "```bash\n",
    "pip install <package_name>==<version_tag>\n",
    "```\n",
    "\n",
    "You can upgrade a package to its latest available version using:\n",
    "\n",
    "```bash\n",
    "pip install -U <package_name>\n",
    "```\n",
    "\n",
    "And you can uninstall a package using:\n",
    "\n",
    "```bash\n",
    "pip uninstall <package_name>\n",
    "```"
   ],
   "cell_type": "markdown",
   "metadata": {}
  },
  {
   "source": [
    "When creating applications, especially using *Docker*, it is common to set up a file named `requirements.txt` containing all the necessary 3rd party dependencies. The `pip` tool will read through that file and install them."
   ],
   "cell_type": "markdown",
   "metadata": {}
  }
 ]
}