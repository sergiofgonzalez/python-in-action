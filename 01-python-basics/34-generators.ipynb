{
 "metadata": {
  "language_info": {
   "codemirror_mode": {
    "name": "ipython",
    "version": 3
   },
   "file_extension": ".py",
   "mimetype": "text/x-python",
   "name": "python",
   "nbconvert_exporter": "python",
   "pygments_lexer": "ipython3",
   "version": "3.8.3-final"
  },
  "orig_nbformat": 2,
  "kernelspec": {
   "name": "python383jvsc74a57bd0ead85409a3df2736fa4852a03cf3afe7e5b1dbdc0e40d7d22bbcbf8cf1adf5fa",
   "display_name": "Python 3.8.3 64-bit ('base': conda)"
  }
 },
 "nbformat": 4,
 "nbformat_minor": 2,
 "cells": [
  {
   "source": [
    "# Python in Action\n",
    "## Part 1: Python Fundamentals\n",
    "### 34 &mdash; Generators\n",
    "> generator functions in Python"
   ],
   "cell_type": "markdown",
   "metadata": {}
  },
  {
   "source": [
    "As in other programming languages, *generator functions* in Python allow you to create iterables that do not store or materialize all the values of a given sequence at the time of creation, but rather yield each item in that sequence upon request:"
   ],
   "cell_type": "markdown",
   "metadata": {}
  },
  {
   "cell_type": "code",
   "execution_count": 4,
   "metadata": {},
   "outputs": [
    {
     "output_type": "stream",
     "name": "stdout",
     "text": [
      "<generator object natural_number_generator at 0x7fc78d763c80>\n0\n1\n2\n3\n4\n5\n"
     ]
    }
   ],
   "source": [
    "def natural_number_generator():\n",
    "    x = 0\n",
    "    while True:\n",
    "        yield x\n",
    "        x += 1\n",
    "\n",
    "print(natural_number_generator())\n",
    "\n",
    "for num in natural_number_generator():\n",
    "    if num > 5:\n",
    "        break\n",
    "    else:\n",
    "        print(num)"
   ]
  },
  {
   "source": [
    "Note how we have used `for` to consume the elements returned by the generator."
   ],
   "cell_type": "markdown",
   "metadata": {}
  },
  {
   "cell_type": "code",
   "execution_count": null,
   "metadata": {},
   "outputs": [],
   "source": [
    "Generator functions accept parameters to control their behavior:"
   ]
  },
  {
   "cell_type": "code",
   "execution_count": 7,
   "metadata": {
    "tags": []
   },
   "outputs": [
    {
     "output_type": "stream",
     "name": "stdout",
     "text": [
      "1\n2\n3\n"
     ]
    }
   ],
   "source": [
    "def natural_number_range(start, end):\n",
    "    x = start\n",
    "    while x <= end:\n",
    "        yield x\n",
    "        x += 1\n",
    "\n",
    "for num in natural_number_range(1, 3):\n",
    "    print(num)"
   ]
  },
  {
   "source": [
    "Generators can also be consumed using list comprehensions:"
   ],
   "cell_type": "markdown",
   "metadata": {}
  },
  {
   "cell_type": "code",
   "execution_count": 8,
   "metadata": {},
   "outputs": [
    {
     "output_type": "stream",
     "name": "stdout",
     "text": [
      "[1, 2, 3, 4, 5, 6, 7, 8, 9, 10]\n"
     ]
    }
   ],
   "source": [
    "def natural_number_range(start, end):\n",
    "    x = start\n",
    "    while x <= end:\n",
    "        yield x\n",
    "        x += 1\n",
    "\n",
    "print([num for num in natural_number_range(1, 10)])"
   ]
  },
  {
   "cell_type": "code",
   "execution_count": null,
   "metadata": {},
   "outputs": [],
   "source": [
    "You can create generator comprehensions that are lazily evaluated:"
   ]
  },
  {
   "cell_type": "code",
   "execution_count": 13,
   "metadata": {},
   "outputs": [
    {
     "output_type": "stream",
     "name": "stdout",
     "text": [
      "<generator object <genexpr> at 0x7fc78de343c0>\n0\n1\n4\n9\n16\n25\n36\n49\n64\n81\n[0, 1, 8, 27, 64]\n"
     ]
    }
   ],
   "source": [
    "generator_comprehension = (x * x for x in range(0, 10))\n",
    "\n",
    "print(generator_comprehension) # lazily evaluated\n",
    "\n",
    "# To materialize, use list or for loop\n",
    "for x in generator_comprehension:\n",
    "    print(x)\n",
    "\n",
    "cubes = list((x * x * x for x in range(0, 5)))\n",
    "print(cubes)"
   ]
  },
  {
   "cell_type": "code",
   "execution_count": null,
   "metadata": {},
   "outputs": [],
   "source": []
  }
 ]
}