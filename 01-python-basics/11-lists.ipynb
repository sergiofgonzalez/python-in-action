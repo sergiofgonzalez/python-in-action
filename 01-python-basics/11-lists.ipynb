{
 "metadata": {
  "language_info": {
   "codemirror_mode": {
    "name": "ipython",
    "version": 3
   },
   "file_extension": ".py",
   "mimetype": "text/x-python",
   "name": "python",
   "nbconvert_exporter": "python",
   "pygments_lexer": "ipython3",
   "version": "3.8.3-final"
  },
  "orig_nbformat": 2,
  "kernelspec": {
   "name": "python383jvsc74a57bd0ead85409a3df2736fa4852a03cf3afe7e5b1dbdc0e40d7d22bbcbf8cf1adf5fa",
   "display_name": "Python 3.8.3 64-bit ('base': conda)"
  }
 },
 "nbformat": 4,
 "nbformat_minor": 2,
 "cells": [
  {
   "source": [
    "# Python in Action\n",
    "## Part 1: Python Fundamentals\n",
    "### 11 &mdash; Lists in Python\n",
    "> ordered collection of elements\n",
    "\n",
    "Lists are an essential part of the Python programming language.\n",
    "\n",
    "Lists are ordered collections of items of the same or different type that are accessible under a single name."
   ],
   "cell_type": "markdown",
   "metadata": {}
  },
  {
   "source": [
    "#### Creating and accessing lists\n"
   ],
   "cell_type": "markdown",
   "metadata": {}
  },
  {
   "cell_type": "code",
   "execution_count": 1,
   "metadata": {},
   "outputs": [
    {
     "output_type": "stream",
     "name": "stdout",
     "text": [
      "['one', 2, 'a', False]\n"
     ]
    }
   ],
   "source": [
    "my_list = ['one', 2, 'a', False]\n",
    "\n",
    "print(my_list)"
   ]
  },
  {
   "cell_type": "code",
   "execution_count": null,
   "metadata": {},
   "outputs": [],
   "source": [
    "my_list = ['one', 2, 'a', False]\n",
    "\n",
    "print(my_list[0])\n",
    "print(my_list[1])\n",
    "print(my_list[2])\n",
    "print(my_list[3])"
   ]
  },
  {
   "source": [
    "You can use negative indices to access list items from the end of the list:"
   ],
   "cell_type": "markdown",
   "metadata": {}
  },
  {
   "cell_type": "code",
   "execution_count": null,
   "metadata": {},
   "outputs": [],
   "source": [
    "my_list = ['one', 2, 'a', False]\n",
    "print(my_list[-1]) # get the last item\n",
    "print(my_list[-2]) # get the item before last"
   ]
  },
  {
   "source": [
    "It is very common to find *lists of lists* in Python. Those are accessed using the same principles:"
   ],
   "cell_type": "markdown",
   "metadata": {}
  },
  {
   "cell_type": "code",
   "execution_count": null,
   "metadata": {},
   "outputs": [],
   "source": [
    "list_of_lists = [[1, 2, 3], [4, 5, 6], [7, 8, 9]]\n",
    "print(list_of_lists)\n",
    "print(list_of_lists[1]) # [4, 5, 6]\n",
    "print(list_of_lists[1][1]) # second element from the second vector"
   ]
  },
  {
   "source": [
    "#### Using `in` to check if an item belongs to a list"
   ],
   "cell_type": "markdown",
   "metadata": {}
  },
  {
   "cell_type": "code",
   "execution_count": 2,
   "metadata": {},
   "outputs": [
    {
     "output_type": "stream",
     "name": "stdout",
     "text": [
      "False\nTrue\n"
     ]
    }
   ],
   "source": [
    "my_list = ['one', 2, 'a', False]\n",
    "\n",
    "print('foo' in my_list)\n",
    "print('a' in my_list)"
   ]
  },
  {
   "source": [
    "#### The empty list `[]`"
   ],
   "cell_type": "markdown",
   "metadata": {}
  },
  {
   "cell_type": "code",
   "execution_count": null,
   "metadata": {},
   "outputs": [],
   "source": [
    "my_empty_list = []"
   ]
  },
  {
   "source": [
    "#### Python lists are mutable\n",
    "\n",
    "Python lists are not immutable, and therefore, their items can be modified after creation. Also the list itself can be modified adding or removing elements."
   ],
   "cell_type": "markdown",
   "metadata": {}
  },
  {
   "cell_type": "code",
   "execution_count": 6,
   "metadata": {},
   "outputs": [
    {
     "output_type": "stream",
     "name": "stdout",
     "text": [
      "['one', 'two', 'a', False]\n['one', 'two', 'a', False, 3.141592]\n"
     ]
    }
   ],
   "source": [
    "my_list = ['one', 2, 'a', False]\n",
    "\n",
    "my_list[1] = 'two'\n",
    "print(my_list)\n",
    "\n",
    "my_list.append(3.141592)\n",
    "print(my_list)\n"
   ]
  },
  {
   "source": [
    "#### Adding elements to a list: concatenating, appending, extending and inserting\n",
    "\n",
    "Individual items can be added to a list using its `append()` method, the `extend()` method, the `+` and the `+=` operator can be used to concatenate existing lists.\n",
    "\n",
    "+ `append()` &mdash; add a new item at the end of the list\n",
    "+ `extend()` &mdash; concatenates the given list to an existing one\n",
    "+ `+=` &mdash; concatenates the list on the right hand side to the list on the left hand side.\n",
    "+ `+` &mdash; concatenates the given lists\n",
    "\n",
    "You can use the `insert(...)` method to insert an item on a specific place in the list."
   ],
   "cell_type": "markdown",
   "metadata": {}
  },
  {
   "cell_type": "code",
   "execution_count": 11,
   "metadata": {},
   "outputs": [
    {
     "output_type": "stream",
     "name": "stdout",
     "text": [
      "['one']\n['one', 'two']\n['one', 'two', 'three']\n['one', 'two', 'three', 'four', 'five']\n['one', 'two', 'three', 'four', 'five', 'six']\n['one', 'two', 'three', 'four', 'five', 'six', 'seven', 'eight']\n[1, 2, 3, 4, 5, 6, 7, 8]\n['zero', 'one', 'two', 'three', 'four', 'five', 'six', 'seven', 'eight']\n['zero', 'one', 'two', 'three', 'three-point-five', 'four', 'five', 'six', 'seven', 'eight']\n"
     ]
    }
   ],
   "source": [
    "# we initialize as empty list\n",
    "items = []\n",
    "\n",
    "# add an individual item at the end of the list\n",
    "items.append('one')\n",
    "print(items)\n",
    "\n",
    "items.append('two')\n",
    "print(items)\n",
    "\n",
    "# concatenate a list using `extend(list)`\n",
    "items.extend(['three'])\n",
    "print(items)\n",
    "\n",
    "items.extend(['four', 'five'])\n",
    "print(items)\n",
    "\n",
    "# += is syntacting sugar for `extend()`\n",
    "items += ['six']\n",
    "print(items)\n",
    "\n",
    "items += ['seven', 'eight']\n",
    "print(items)\n",
    "\n",
    "# + is used to concatenate lists\n",
    "long_list = [1, 2, 3] + [4, 5, 6, 7, 8]\n",
    "print(long_list)\n",
    "\n",
    "# insert is used to insert a new element on a specific location\n",
    "items.insert(0, 'zero')\n",
    "print(items)\n",
    "\n",
    "items.insert(4, 'three-point-five')\n",
    "print(items)"
   ]
  },
  {
   "source": [
    "#### Removing elements from a list\n",
    "\n",
    "Items can be removed from a list using `remove(item)`."
   ],
   "cell_type": "markdown",
   "metadata": {}
  },
  {
   "cell_type": "code",
   "execution_count": 12,
   "metadata": {},
   "outputs": [
    {
     "output_type": "stream",
     "name": "stdout",
     "text": [
      "['one', 'three']\n"
     ]
    }
   ],
   "source": [
    "numbers = ['one', 'two', 'three']\n",
    "numbers.remove('two')\n",
    "\n",
    "print(numbers)"
   ]
  },
  {
   "source": [
    "If the items are found more than once, only the first found occurrence will be removed:"
   ],
   "cell_type": "markdown",
   "metadata": {}
  },
  {
   "cell_type": "code",
   "execution_count": 14,
   "metadata": {},
   "outputs": [
    {
     "output_type": "stream",
     "name": "stdout",
     "text": [
      "['one', 'three', 'two', 'four', 'two']\n['one', 'three', 'four', 'two']\n"
     ]
    }
   ],
   "source": [
    "numbers = ['one', 'two', 'three', 'two', 'four', 'two']\n",
    "\n",
    "numbers.remove('two')\n",
    "print(numbers)\n",
    "\n",
    "numbers.remove('two')\n",
    "print(numbers)"
   ]
  },
  {
   "source": [
    "#### Getting the length of list with `len()`\n",
    "\n",
    "The global function `len()` can be used to get the length of a list:"
   ],
   "cell_type": "markdown",
   "metadata": {}
  },
  {
   "cell_type": "code",
   "execution_count": 15,
   "metadata": {},
   "outputs": [
    {
     "output_type": "execute_result",
     "data": {
      "text/plain": [
       "3"
      ]
     },
     "metadata": {},
     "execution_count": 15
    }
   ],
   "source": [
    "my_list = [ 1, 2, 3 ]\n",
    "\n",
    "len(my_list)"
   ]
  },
  {
   "source": [
    "#### Slicing\n",
    "\n",
    "In Python, you can slice lists using a range of subindices when accessing a list:\n",
    "\n",
    "```python\n",
    "sublist = list[init_pos_inc:end_pos_exc]\n",
    "```"
   ],
   "cell_type": "markdown",
   "metadata": {}
  },
  {
   "cell_type": "code",
   "execution_count": 16,
   "metadata": {},
   "outputs": [
    {
     "output_type": "stream",
     "name": "stdout",
     "text": [
      "[2, 3]\n"
     ]
    }
   ],
   "source": [
    "my_list = [1, 2, 3, 4, 5]\n",
    "\n",
    "sublist = my_list[1:3] # will return [2, 3]\n",
    "print(sublist)"
   ]
  },
  {
   "source": [
    "While slicing, you can leave out the initial pos, the final position, both, and you can also use negative indices:"
   ],
   "cell_type": "markdown",
   "metadata": {}
  },
  {
   "cell_type": "code",
   "execution_count": 19,
   "metadata": {},
   "outputs": [
    {
     "output_type": "stream",
     "name": "stdout",
     "text": [
      "[1, 2]\n[2]\n[3, 4, 5]\n[1, 2, 3]\n[1, 2, 3, 4, 5]\n[3, 4]\n"
     ]
    }
   ],
   "source": [
    "my_list = [1, 2, 3, 4, 5]\n",
    "\n",
    "print(my_list[0:2])     # [1, 2]\n",
    "print(my_list[1:2])     # [2]\n",
    "print(my_list[2:])      # [3, 4, 5]\n",
    "print(my_list[:3])      # [1, 2, 3]\n",
    "print(my_list[:])       # [1, 2, 3, 4, 5] (copy)\n",
    "print(my_list[2:-1])    # [3, 4]"
   ]
  },
  {
   "source": [
    "You can also insert multiple items in a list using the slicing syntax:"
   ],
   "cell_type": "markdown",
   "metadata": {}
  },
  {
   "cell_type": "code",
   "execution_count": 20,
   "metadata": {},
   "outputs": [
    {
     "output_type": "stream",
     "name": "stdout",
     "text": [
      "[4, 5, 6, 7, 8, 9]\n"
     ]
    }
   ],
   "source": [
    "items = [4, 9]\n",
    "\n",
    "items[1:1] = [5, 6, 7, 8]\n",
    "print(items)"
   ]
  },
  {
   "source": [
    "#### Sorting lists\n",
    "\n",
    "Sorting lists in Python can be performed using the `sort()` method.\n",
    "\n",
    "The method requires the items of the list to be comparable:"
   ],
   "cell_type": "markdown",
   "metadata": {}
  },
  {
   "cell_type": "code",
   "execution_count": 15,
   "metadata": {},
   "outputs": [
    {
     "output_type": "stream",
     "name": "stdout",
     "text": [
      "[1, 2, 3, 4, 5, 6, 7]\n"
     ]
    }
   ],
   "source": [
    "items = [ 1, 4, 2, 6, 3, 7, 5]\n",
    "items.sort()\n",
    "\n",
    "print(items)"
   ]
  },
  {
   "source": [
    "if items cannot be sorted, you'll get a `TypeError`:"
   ],
   "cell_type": "markdown",
   "metadata": {}
  },
  {
   "cell_type": "code",
   "execution_count": 17,
   "metadata": {},
   "outputs": [
    {
     "output_type": "stream",
     "name": "stdout",
     "text": [
      "['one', 'two', 'a', False]\n"
     ]
    },
    {
     "output_type": "error",
     "ename": "TypeError",
     "evalue": "'<' not supported between instances of 'bool' and 'str'",
     "traceback": [
      "\u001b[0;31m---------------------------------------------------------------------------\u001b[0m",
      "\u001b[0;31mTypeError\u001b[0m                                 Traceback (most recent call last)",
      "\u001b[0;32m<ipython-input-17-1a6af11c3a57>\u001b[0m in \u001b[0;36m<module>\u001b[0;34m\u001b[0m\n\u001b[1;32m      1\u001b[0m \u001b[0mprint\u001b[0m\u001b[0;34m(\u001b[0m\u001b[0mmy_list\u001b[0m\u001b[0;34m)\u001b[0m\u001b[0;34m\u001b[0m\u001b[0;34m\u001b[0m\u001b[0m\n\u001b[0;32m----> 2\u001b[0;31m \u001b[0mmy_list\u001b[0m\u001b[0;34m.\u001b[0m\u001b[0msort\u001b[0m\u001b[0;34m(\u001b[0m\u001b[0;34m)\u001b[0m\u001b[0;34m\u001b[0m\u001b[0;34m\u001b[0m\u001b[0m\n\u001b[0m",
      "\u001b[0;31mTypeError\u001b[0m: '<' not supported between instances of 'bool' and 'str'"
     ]
    }
   ],
   "source": [
    "print(my_list)\n",
    "my_list.sort()"
   ]
  },
  {
   "source": [
    "Remember that you can copy the contents of a list using slicing:"
   ],
   "cell_type": "markdown",
   "metadata": {}
  },
  {
   "cell_type": "code",
   "execution_count": 18,
   "metadata": {},
   "outputs": [
    {
     "output_type": "stream",
     "name": "stdout",
     "text": [
      "[1, 2, 3, 4, 5, 6, 7]\n[1, 4, 2, 6, 3, 7, 5]\n"
     ]
    }
   ],
   "source": [
    "items = [ 1, 4, 2, 6, 3, 7, 5]\n",
    "original_items = items[:]\n",
    "items.sort()\n",
    "\n",
    "print(items)\n",
    "print(original_items)"
   ]
  },
  {
   "source": [
    "The `sorted()` global method can be used to obtain a new list as the result of sorting an existing one:"
   ],
   "cell_type": "markdown",
   "metadata": {}
  },
  {
   "cell_type": "code",
   "execution_count": 20,
   "metadata": {},
   "outputs": [
    {
     "output_type": "stream",
     "name": "stdout",
     "text": [
      "[1, 2, 3, 4, 5, 6, 7]\n[1, 4, 2, 6, 3, 7, 5]\n"
     ]
    }
   ],
   "source": [
    "print(sorted(original_items))\n",
    "print(original_items)"
   ]
  },
  {
   "source": [
    "Both `sort()` and `sorted()` accept arguments to drive how the comparison is performed:"
   ],
   "cell_type": "markdown",
   "metadata": {}
  },
  {
   "cell_type": "code",
   "execution_count": 24,
   "metadata": {},
   "outputs": [
    {
     "output_type": "stream",
     "name": "stdout",
     "text": [
      "['Adrian', 'Alexx', 'Maria', 'davey', 'martha', 'ziggy']\n['Adrian', 'Alexx', 'davey', 'Maria', 'martha', 'ziggy']\n"
     ]
    }
   ],
   "source": [
    "friends = ['Adrian', 'davey', 'Alexx', 'Maria', 'ziggy', 'martha']\n",
    "original_friends = friends[:]\n",
    "friends.sort()\n",
    "print(friends)\n",
    "\n",
    "print(sorted(original_friends, key=str.lower))"
   ]
  },
  {
   "source": [
    "#### Creating Sets from Lists: removing duplicates\n",
    "You can transform a list in a set using `set(list)`. This is especially useful for removing duplicates from a list. "
   ],
   "cell_type": "markdown",
   "metadata": {}
  },
  {
   "cell_type": "code",
   "execution_count": 1,
   "metadata": {},
   "outputs": [
    {
     "output_type": "stream",
     "name": "stdout",
     "text": [
      "{'foo', 'bar', 'foobar'}\n"
     ]
    }
   ],
   "source": [
    "list = [ 'foo', 'bar', 'foobar', 'bar' ]\n",
    "my_set = set(list)\n",
    "print(my_set)"
   ]
  },
  {
   "source": [
    "#### Unpacking/Destructuring lists\n",
    "\n",
    "You can use the following syntax to unpack lists.\n",
    "\n",
    "| NOTE: |\n",
    "| :---- |\n",
    "| The `*` operator extends the *unpacking* functionality to be able to collect multiple values unders a single variable. |"
   ],
   "cell_type": "markdown",
   "metadata": {}
  },
  {
   "cell_type": "code",
   "execution_count": 22,
   "metadata": {},
   "outputs": [
    {
     "output_type": "stream",
     "name": "stdout",
     "text": [
      "January\nMarch\n1\n2\n[3, 4, 5]\n"
     ]
    }
   ],
   "source": [
    "months = ['January', 'February', 'March']\n",
    "jan, feb, march = months\n",
    "print(jan)\n",
    "print(march)\n",
    "\n",
    "nums = [1, 2, 3, 4, 5]\n",
    "first, second, *rest = nums\n",
    "print(first)\n",
    "print(second)\n",
    "print(rest)\n"
   ]
  },
  {
   "source": [
    "#### Iterating over a list and list comprehensions\n",
    "\n",
    "You can iterate over a list with `for`"
   ],
   "cell_type": "markdown",
   "metadata": {}
  },
  {
   "cell_type": "code",
   "execution_count": 23,
   "metadata": {},
   "outputs": [
    {
     "output_type": "stream",
     "name": "stdout",
     "text": [
      "1\n2\n3\n4\n5\n"
     ]
    }
   ],
   "source": [
    "nums = [1, 2, 3, 4, 5]\n",
    "\n",
    "for num in nums:\n",
    "    print(num)"
   ]
  },
  {
   "source": [
    "You can use list comprehensions to build lists iteratively in a very succinct way:"
   ],
   "cell_type": "markdown",
   "metadata": {}
  },
  {
   "cell_type": "code",
   "execution_count": 24,
   "metadata": {},
   "outputs": [
    {
     "output_type": "stream",
     "name": "stdout",
     "text": [
      "[1, 8, 27, 64, 125]\n"
     ]
    }
   ],
   "source": [
    "nums = [1, 2, 3, 4, 5]\n",
    "cubes = [ x * x * x for x in nums]\n",
    "print(cubes)"
   ]
  },
  {
   "source": [
    "For more examples on list comprehensions, please refer to [29 &mdash; List comprehensions in Python](29-list-comprehensions.ipynb)"
   ],
   "cell_type": "markdown",
   "metadata": {}
  }
 ]
}