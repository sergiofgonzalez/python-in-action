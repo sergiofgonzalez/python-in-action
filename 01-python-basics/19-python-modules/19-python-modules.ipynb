{
 "metadata": {
  "language_info": {
   "codemirror_mode": {
    "name": "ipython",
    "version": 3
   },
   "file_extension": ".py",
   "mimetype": "text/x-python",
   "name": "python",
   "nbconvert_exporter": "python",
   "pygments_lexer": "ipython3",
   "version": "3.8.3-final"
  },
  "orig_nbformat": 2,
  "kernelspec": {
   "name": "python3",
   "display_name": "Python 3.8.3 64-bit ('base': conda)",
   "metadata": {
    "interpreter": {
     "hash": "ead85409a3df2736fa4852a03cf3afe7e5b1dbdc0e40d7d22bbcbf8cf1adf5fa"
    }
   }
  }
 },
 "nbformat": 4,
 "nbformat_minor": 2,
 "cells": [
  {
   "source": [
    "# Python in Action\n",
    "## Part 1: Python Fundamentals\n",
    "### 19 &mdash; Modules in Python\n",
    "> modules in Python\n",
    "\n"
   ],
   "cell_type": "markdown",
   "metadata": {}
  },
  {
   "source": [
    "As in any modern programming language, Python includes the concept of modules to let you arrange applications of moderate complexity in separate files.\n",
    "\n",
    "In Python, one file acts as the entry point of the application. The other files that collaborate together to solve a given problem are considered modules, and its exposed functions are available from other files."
   ],
   "cell_type": "markdown",
   "metadata": {}
  },
  {
   "source": [
    "A function define in another file (module) can be imported into the current module (or main program) using `import`.\n",
    "\n",
    "| EXAMPLE: |\n",
    "| :------- |\n",
    "| See [greetings.py](greetings.py) for an example of a module that we want to import. |\n",
    "\n",
    "In its most basic form, you can import all the functions from a module using:\n",
    "\n",
    "```python\n",
    "import <module_name_no_extension>\n",
    "```\n",
    "\n",
    "For example:"
   ],
   "cell_type": "markdown",
   "metadata": {}
  },
  {
   "cell_type": "code",
   "execution_count": 2,
   "metadata": {},
   "outputs": [
    {
     "output_type": "stream",
     "name": "stdout",
     "text": [
      "Hello, Jason Isaacs\n"
     ]
    }
   ],
   "source": [
    "import greetings\n",
    "\n",
    "greetings.greet_me('Jason Isaacs')"
   ]
  },
  {
   "source": [
    "Alternatively, you can import individual functions from a module using the syntax:\n",
    "\n",
    "```python\n",
    "from <module_name_no_extension> import <fn1>[, <fn2>[, <fn3> ... ]]\n",
    "```"
   ],
   "cell_type": "markdown",
   "metadata": {}
  },
  {
   "cell_type": "code",
   "execution_count": 1,
   "metadata": {},
   "outputs": [
    {
     "output_type": "stream",
     "name": "stdout",
     "text": [
      "Hello, Idris!\n"
     ]
    }
   ],
   "source": [
    "from greetings import greet_me\n",
    "\n",
    "greet_me('Idris')"
   ]
  },
  {
   "source": [
    "If you want to arrange the modules in a particular directory structure, you will need to perform some additional actions.\n",
    "\n",
    "Let's suppose that you want to place the `greetings` module within a `lib/` directory. In order to make the `import` work, you will have to create an empty file named `__init__.py` in that directory to let the Python subsystem know that the folder contains modules."
   ],
   "cell_type": "markdown",
   "metadata": {}
  },
  {
   "cell_type": "code",
   "execution_count": 2,
   "metadata": {},
   "outputs": [
    {
     "output_type": "stream",
     "name": "stdout",
     "text": [
      "Hello, Kenneth!\n"
     ]
    }
   ],
   "source": [
    "from lib import greetings\n",
    "\n",
    "greetings.greet_me('Kenneth')"
   ]
  },
  {
   "source": [
    "| NOTE: |\n",
    "| :---- |\n",
    "| The creation of `__init__.py` does not seem to be necessary for Python notebooks and neither to `main.py` files executed from VSCode. |"
   ],
   "cell_type": "markdown",
   "metadata": {}
  },
  {
   "source": [
    "You can also import individual functions from a module placed on a particular subdirectory using the following syntax:\n",
    "\n",
    "```python\n",
    "from <my-directory-name>.<my-module-name> import <my-fn>\n",
    "```"
   ],
   "cell_type": "markdown",
   "metadata": {}
  },
  {
   "cell_type": "code",
   "execution_count": 1,
   "metadata": {},
   "outputs": [
    {
     "output_type": "stream",
     "name": "stdout",
     "text": [
      "Hello, Emma!\n"
     ]
    }
   ],
   "source": [
    "from lib.greetings import greet_me\n",
    "\n",
    "greet_me('Emma')"
   ]
  },
  {
   "source": [
    "#### Fixing *Pylance 'missing imports'* in VSCode\n",
    "\n",
    "When working with custom modules, will complain about libraries not being able to be resolved such as:\n",
    "\n",
    "```\n",
    "from lib import greetings\n",
    "```\n",
    "\n",
    "In such case, you will have to manually add an extra path to your `\"python.analysis.extraPaths\"` key to announce *Pylance* which directory you're using to place your custom modules."
   ],
   "cell_type": "markdown",
   "metadata": {}
  }
 ]
}