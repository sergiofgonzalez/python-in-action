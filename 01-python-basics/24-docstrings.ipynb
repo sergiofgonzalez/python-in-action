{
 "metadata": {
  "language_info": {
   "codemirror_mode": {
    "name": "ipython",
    "version": 3
   },
   "file_extension": ".py",
   "mimetype": "text/x-python",
   "name": "python",
   "nbconvert_exporter": "python",
   "pygments_lexer": "ipython3",
   "version": "3.8.3-final"
  },
  "orig_nbformat": 2,
  "kernelspec": {
   "name": "python383jvsc74a57bd0ead85409a3df2736fa4852a03cf3afe7e5b1dbdc0e40d7d22bbcbf8cf1adf5fa",
   "display_name": "Python 3.8.3 64-bit ('base': conda)"
  }
 },
 "nbformat": 4,
 "nbformat_minor": 2,
 "cells": [
  {
   "source": [
    "# Python in Action\n",
    "## Part 1: Python Fundamentals\n",
    "### 24 &mdash; Docstrings in Python\n",
    "> documenting your code with docstrings"
   ],
   "cell_type": "markdown",
   "metadata": {}
  },
  {
   "source": [
    "*Docstrings* are the standard way to document functions, classes, and methods in Python:"
   ],
   "cell_type": "markdown",
   "metadata": {}
  },
  {
   "cell_type": "code",
   "execution_count": 1,
   "metadata": {},
   "outputs": [],
   "source": [
    "def increment(n):\n",
    "    \"\"\"Increment a number\"\"\"\n",
    "    return n + 1"
   ]
  },
  {
   "cell_type": "code",
   "execution_count": null,
   "metadata": {},
   "outputs": [],
   "source": [
    "class Person:\n",
    "    \"\"\"A class modeling a Person\"\"\"\n",
    "\n",
    "    def __init__(self, name, age):\n",
    "        \"\"\"Constructor for the Person class\"\"\"\n",
    "        self.name = name\n",
    "        self.age = age\n",
    "\n",
    "    def announce():\n",
    "        \"\"\"Announces his/herself\"\"\"\n",
    "        print(f'Hi, I\\'m {self.name} and I\\'m {self.age} yo')"
   ]
  },
  {
   "source": [
    "Modules can also be documentated by placing a docstring at the top of the file:\n",
    "\n",
    "```python\n",
    "\"\"\"Vector module\n",
    "This module provides a set of util functions for vector processing\n",
    "\"\"\"\n",
    "```"
   ],
   "cell_type": "markdown",
   "metadata": {}
  }
 ]
}