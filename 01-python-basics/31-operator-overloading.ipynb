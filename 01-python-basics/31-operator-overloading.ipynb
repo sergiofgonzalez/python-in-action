{
 "metadata": {
  "language_info": {
   "codemirror_mode": {
    "name": "ipython",
    "version": 3
   },
   "file_extension": ".py",
   "mimetype": "text/x-python",
   "name": "python",
   "nbconvert_exporter": "python",
   "pygments_lexer": "ipython3",
   "version": "3.8.3-final"
  },
  "orig_nbformat": 2,
  "kernelspec": {
   "name": "python383jvsc74a57bd0ead85409a3df2736fa4852a03cf3afe7e5b1dbdc0e40d7d22bbcbf8cf1adf5fa",
   "display_name": "Python 3.8.3 64-bit ('base': conda)"
  }
 },
 "nbformat": 4,
 "nbformat_minor": 2,
 "cells": [
  {
   "source": [
    "# Python in Action\n",
    "## Part 1: Python Fundamentals\n",
    "### 31 &mdash; Operator overloading in Python\n",
    "> operator overloading"
   ],
   "cell_type": "markdown",
   "metadata": {}
  },
  {
   "cell_type": "code",
   "execution_count": null,
   "metadata": {},
   "outputs": [],
   "source": [
    "Python allows operator overloading as seen in the following example:"
   ]
  },
  {
   "cell_type": "code",
   "execution_count": 3,
   "metadata": {},
   "outputs": [
    {
     "output_type": "stream",
     "name": "stdout",
     "text": [
      "it is greater\n"
     ]
    }
   ],
   "source": [
    "class Amount:\n",
    "    def __init__(self, amt, currency):\n",
    "        self.amt = amt\n",
    "        self.currency = currency\n",
    "    \n",
    "    def __gt__(self, other):\n",
    "        if self.currency == other.currency and self.amt > other.amt:\n",
    "            return True\n",
    "        else:\n",
    "            return False\n",
    "\n",
    "fifteen_bucks = Amount(15, 'USD')\n",
    "fifty_bucks = Amount(50, 'USD')\n",
    "\n",
    "if (fifty_bucks > fifteen_bucks):\n",
    "    print('it is greater')\n",
    "else:\n",
    "    print('not greater')"
   ]
  },
  {
   "source": [
    "As seen in the example, there is a set of functions that you can define in your classes to overload comparison and arithmentic operators:\n",
    "\n",
    "+ `__eq__()` &mdash; `==`\n",
    "+ `__ne__()` &mdash; `!=`\n",
    "+ `__lt__()` &mdash; `<`\n",
    "+ `__le__()` &mdash; `<=`\n",
    "+ `__gt__()` &mdash; `>`\n",
    "+ `__ge__()` &mdash; `>=`\n",
    "+ `__add__()` &mdash; `+`\n",
    "+ `__sub__()` &mdash; `-`\n",
    "+ `__mul__()` &mdash; `*`\n",
    "+ `__truediv__()` &mdash; `/`\n",
    "+ `__floordiv__()` &mdash; `//`\n",
    "+ `__mod__()` &mdash; `%`\n",
    "+ `__rshifht__()` &mdash; `>>`\n",
    "+ `__lshifht__()` &mdash; `<<`\n",
    "+ `__and__()` &mdash; `&`\n",
    "+ `__or__()` &mdash; `|`\n",
    "+ `__xor__()` &mdash; `^`"
   ],
   "cell_type": "markdown",
   "metadata": {}
  }
 ]
}