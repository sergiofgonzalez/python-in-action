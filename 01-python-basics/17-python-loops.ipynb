{
 "metadata": {
  "language_info": {
   "codemirror_mode": {
    "name": "ipython",
    "version": 3
   },
   "file_extension": ".py",
   "mimetype": "text/x-python",
   "name": "python",
   "nbconvert_exporter": "python",
   "pygments_lexer": "ipython3",
   "version": "3.8.3-final"
  },
  "orig_nbformat": 2,
  "kernelspec": {
   "name": "python3",
   "display_name": "Python 3.8.3 64-bit ('base': conda)",
   "metadata": {
    "interpreter": {
     "hash": "ead85409a3df2736fa4852a03cf3afe7e5b1dbdc0e40d7d22bbcbf8cf1adf5fa"
    }
   }
  }
 },
 "nbformat": 4,
 "nbformat_minor": 2,
 "cells": [
  {
   "source": [
    "# Python in Action\n",
    "## Part 1: Python Fundamentals\n",
    "### 17 &mdash; Loops in Python\n",
    "> while and for loops in Python\n",
    "\n"
   ],
   "cell_type": "markdown",
   "metadata": {}
  },
  {
   "source": [
    "#### `while` loops\n",
    "\n",
    "Python features `while` loops that have the same characteristics as loops in other programming languages:"
   ],
   "cell_type": "markdown",
   "metadata": {}
  },
  {
   "cell_type": "code",
   "execution_count": 1,
   "metadata": {},
   "outputs": [
    {
     "output_type": "stream",
     "name": "stdout",
     "text": [
      "Executing the while loop\ndone!\n"
     ]
    }
   ],
   "source": [
    "done = False\n",
    "while not done:\n",
    "    print('Executing the while loop')\n",
    "    done = True\n",
    "\n",
    "print('done!')"
   ]
  },
  {
   "source": [
    "It is common to use a counter in *while* loops to implement a certain block of statements a given number of times:"
   ],
   "cell_type": "markdown",
   "metadata": {}
  },
  {
   "cell_type": "code",
   "execution_count": 3,
   "metadata": {},
   "outputs": [
    {
     "output_type": "stream",
     "name": "stdout",
     "text": [
      "Executing the loop: iter 0\nExecuting the loop: iter 1\nExecuting the loop: iter 2\ndone!\n"
     ]
    }
   ],
   "source": [
    "count = 0\n",
    "while count < 3:\n",
    "    print(f'Executing the loop: iter {count}')\n",
    "    count += 1\n",
    "\n",
    "print('done!')"
   ]
  },
  {
   "source": [
    "| NOTE: |\n",
    "| :---- |\n",
    "| There is no pre/post increment operator in Python. That is, `count++` or `++count` are not valid in Python. |"
   ],
   "cell_type": "markdown",
   "metadata": {}
  },
  {
   "source": [
    "#### `for` loops\n",
    "\n",
    "`for` loops in Python are a bit more *functional* than in other programming languages. \n",
    "\n",
    "`for` loops in Python are used to iterate over the elements of a given *iterable* object:"
   ],
   "cell_type": "markdown",
   "metadata": {}
  },
  {
   "cell_type": "code",
   "execution_count": 4,
   "metadata": {},
   "outputs": [
    {
     "output_type": "stream",
     "name": "stdout",
     "text": [
      "sum=10\n"
     ]
    }
   ],
   "source": [
    "items = [ 1, 2, 3, 4]\n",
    "sum = 0\n",
    "for item in items:\n",
    "    sum += item\n",
    "\n",
    "print(f'sum={sum}')"
   ]
  },
  {
   "source": [
    "Python provides the `range()` global function that returns an iterable:"
   ],
   "cell_type": "markdown",
   "metadata": {}
  },
  {
   "cell_type": "code",
   "execution_count": 6,
   "metadata": {},
   "outputs": [
    {
     "output_type": "stream",
     "name": "stdout",
     "text": [
      "0\n1\n2\n3\n"
     ]
    }
   ],
   "source": [
    "for item in range(4):\n",
    "    print(item)"
   ]
  },
  {
   "cell_type": "code",
   "execution_count": null,
   "metadata": {},
   "outputs": [],
   "source": [
    "You can *fine-tune* the *iterable* returned by `range()` by passing additional arguments:"
   ]
  },
  {
   "cell_type": "code",
   "execution_count": 7,
   "metadata": {},
   "outputs": [
    {
     "output_type": "stream",
     "name": "stdout",
     "text": [
      "4950\n"
     ]
    }
   ],
   "source": [
    "sum = 0\n",
    "for num in range(1, 100):\n",
    "    sum += num\n",
    "\n",
    "print(sum)"
   ]
  },
  {
   "source": [
    "You can use the global function `enumerate()` to obtain an *iterable* of tuples that contain the index of the element and its value:"
   ],
   "cell_type": "markdown",
   "metadata": {}
  },
  {
   "cell_type": "code",
   "execution_count": 11,
   "metadata": {},
   "outputs": [
    {
     "output_type": "stream",
     "name": "stdout",
     "text": [
      "0: 50\n1: 51\n2: 52\n3: 53\n4: 54\n"
     ]
    }
   ],
   "source": [
    "items = range(50, 55)\n",
    "for index, item in enumerate(items):\n",
    "    print(f'{index}: {item}')\n"
   ]
  },
  {
   "source": [
    "What we're doing in the example above is destructuring the iterable of tuples returned by `enumerate()`:"
   ],
   "cell_type": "markdown",
   "metadata": {}
  },
  {
   "cell_type": "code",
   "execution_count": 12,
   "metadata": {},
   "outputs": [
    {
     "output_type": "stream",
     "name": "stdout",
     "text": [
      "[(0, 50), (1, 51), (2, 52), (3, 53), (4, 54)]\n"
     ]
    }
   ],
   "source": [
    "items = range(50, 55)\n",
    "print(list(enumerate(items)))"
   ]
  },
  {
   "cell_type": "code",
   "execution_count": 13,
   "metadata": {},
   "outputs": [
    {
     "output_type": "stream",
     "name": "stdout",
     "text": [
      "1\n51\n"
     ]
    }
   ],
   "source": [
    "# destructuring a particular tuple\n",
    "\n",
    "index, value = (1, 51)\n",
    "print(index)\n",
    "print(value)"
   ]
  },
  {
   "source": [
    "#### `break` and `continue`\n",
    "\n",
    "You can use `continue` to stop the current iteration and tell Python to execute the next one, and `break` to step out of the current loop.\n",
    "\n",
    "`break` and `continue` can be used both for `while` and `for` loops"
   ],
   "cell_type": "markdown",
   "metadata": {}
  },
  {
   "cell_type": "code",
   "execution_count": 15,
   "metadata": {},
   "outputs": [
    {
     "output_type": "stream",
     "name": "stdout",
     "text": [
      "processing 1\nprocessing 2\n"
     ]
    }
   ],
   "source": [
    "items = [1, 2, 3, 4, 5]\n",
    "\n",
    "for item in items:\n",
    "    if item % 3 == 0:\n",
    "        continue\n",
    "    elif item == 4:\n",
    "        break\n",
    "    else:\n",
    "        print(f'processing {item}')"
   ]
  },
  {
   "cell_type": "code",
   "execution_count": null,
   "metadata": {},
   "outputs": [],
   "source": []
  }
 ]
}