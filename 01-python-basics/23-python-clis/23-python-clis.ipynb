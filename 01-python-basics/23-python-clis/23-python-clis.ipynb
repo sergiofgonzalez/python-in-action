{
 "metadata": {
  "language_info": {
   "codemirror_mode": {
    "name": "ipython",
    "version": 3
   },
   "file_extension": ".py",
   "mimetype": "text/x-python",
   "name": "python",
   "nbconvert_exporter": "python",
   "pygments_lexer": "ipython3",
   "version": "3.8.3-final"
  },
  "orig_nbformat": 2,
  "kernelspec": {
   "name": "python3",
   "display_name": "Python 3.8.3 64-bit ('base': conda)",
   "metadata": {
    "interpreter": {
     "hash": "ead85409a3df2736fa4852a03cf3afe7e5b1dbdc0e40d7d22bbcbf8cf1adf5fa"
    }
   }
  }
 },
 "nbformat": 4,
 "nbformat_minor": 2,
 "cells": [
  {
   "source": [
    "# Python in Action\n",
    "## Part 1: Python Fundamentals\n",
    "### 23 &mdash; Python CLIs\n",
    "> CLI related concepts in Python"
   ],
   "cell_type": "markdown",
   "metadata": {}
  },
  {
   "source": [
    "#### Accepting arguments from the command line\n",
    "\n",
    "You can pass additional arguments to Python programs you run from the command-line:\n",
    "\n",
    "```bash\n",
    "python <file-name>.py <arg-1> <arg-2> ... <arg-n>\n",
    "```\n",
    "\n",
    "There are several ways to handle those arguments within your program.\n",
    "\n",
    "One way relies on the `sys` package, which provides the arguments passed in the command line as a *list* in `sys.argv`:"
   ],
   "cell_type": "markdown",
   "metadata": {}
  },
  {
   "cell_type": "code",
   "execution_count": 1,
   "metadata": {},
   "outputs": [
    {
     "output_type": "stream",
     "name": "stdout",
     "text": [
      "11\n['ipykernel_launcher', '--ip=127.0.0.1', '--stdin=9013', '--control=9011', '--hb=9010', '--Session.signature_scheme=\"hmac-sha256\"', '--Session.key=b\"2aca3d77-44d5-4539-b4f6-5cfd079d0deb\"', '--shell=9012', '--transport=\"tcp\"', '--iopub=9014', '--f=/tmp/tmp-2995EaROedWWQR6e.json']\n"
     ]
    }
   ],
   "source": [
    "import sys\n",
    "\n",
    "print(len(sys.argv))\n",
    "print(sys.argv)"
   ]
  },
  {
   "source": [
    "You can also use the `argparse` module which provides a more comprehensive approach for serious CLI applications:"
   ],
   "cell_type": "markdown",
   "metadata": {}
  },
  {
   "cell_type": "code",
   "execution_count": null,
   "metadata": {},
   "outputs": [],
   "source": [
    "import argparse\n",
    "\n",
    "parser = argparse.ArgumentParse(\n",
    "    description = 'This is a Python CLI that says hello'\n",
    ")"
   ]
  },
  {
   "source": [
    "| EXAMPLE |\n",
    "| :------ |\n",
    "| See [greeter.py](./greeter.py) for a runnable example.<br>You can find more information about `argparse` [here](https://docs.python.org/3/library/argparse.html). |"
   ],
   "cell_type": "markdown",
   "metadata": {}
  }
 ]
}