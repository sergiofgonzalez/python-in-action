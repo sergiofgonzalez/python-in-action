{
 "metadata": {
  "language_info": {
   "codemirror_mode": {
    "name": "ipython",
    "version": 3
   },
   "file_extension": ".py",
   "mimetype": "text/x-python",
   "name": "python",
   "nbconvert_exporter": "python",
   "pygments_lexer": "ipython3",
   "version": "3.8.3-final"
  },
  "orig_nbformat": 2,
  "kernelspec": {
   "name": "python383jvsc74a57bd0ead85409a3df2736fa4852a03cf3afe7e5b1dbdc0e40d7d22bbcbf8cf1adf5fa",
   "display_name": "Python 3.8.3 64-bit ('base': conda)"
  }
 },
 "nbformat": 4,
 "nbformat_minor": 2,
 "cells": [
  {
   "source": [
    "# Python in Action\n",
    "## Part 1: Python Fundamentals\n",
    "### 12 &mdash; Tuples in Python\n",
    "> inmmutable groups of objects\n",
    "\n",
    "Tuples are an essential part of the Python programming language.\n",
    "\n",
    "Tuples allow you to create immutable groups of objects &mdash; once a tuple has been defined, you cannot add, remove or modify any of its items.\n"
   ],
   "cell_type": "markdown",
   "metadata": {}
  },
  {
   "source": [
    "Tuples are typically created using parentheses:\n"
   ],
   "cell_type": "markdown",
   "metadata": {}
  },
  {
   "cell_type": "code",
   "execution_count": 1,
   "metadata": {},
   "outputs": [
    {
     "output_type": "stream",
     "name": "stdout",
     "text": [
      "['one', 2, 'a', False]\n"
     ]
    }
   ],
   "source": [
    "my_tuple = ('foo', 'bar')"
   ]
  },
  {
   "cell_type": "code",
   "execution_count": null,
   "metadata": {},
   "outputs": [],
   "source": [
    "But you can use the following syntax too:"
   ]
  },
  {
   "cell_type": "code",
   "execution_count": 1,
   "metadata": {},
   "outputs": [
    {
     "output_type": "stream",
     "name": "stdout",
     "text": [
      "(1, 2, 3, 4, 5)\n"
     ]
    }
   ],
   "source": [
    "my_tuple = 1, 2, 3, 4, 5\n",
    "print(my_tuple)"
   ]
  },
  {
   "source": [
    "You can also create a tuple from a generator comprehension using `tuple()`:"
   ],
   "cell_type": "markdown",
   "metadata": {}
  },
  {
   "cell_type": "code",
   "execution_count": 2,
   "metadata": {},
   "outputs": [
    {
     "output_type": "stream",
     "name": "stdout",
     "text": [
      "(11, 12, 13, 14, 15)\n"
     ]
    }
   ],
   "source": [
    "a = 1, 2, 3, 4, 5 # this is a generator\n",
    "b = tuple(x + 10 for x in a)\n",
    "print(b)"
   ]
  },
  {
   "source": [
    "You can access the elements of a tuple using `[]`:"
   ],
   "cell_type": "markdown",
   "metadata": {}
  },
  {
   "cell_type": "code",
   "execution_count": 2,
   "metadata": {},
   "outputs": [
    {
     "output_type": "stream",
     "name": "stdout",
     "text": [
      "foo\nbar\n"
     ]
    }
   ],
   "source": [
    "my_tuple = ('foo', 'bar')\n",
    "\n",
    "# by index\n",
    "print(my_tuple[0])\n",
    "print(my_tuple[1])"
   ]
  },
  {
   "source": [
    "You can also use *unpacking* to get the elements of a tuple:"
   ],
   "cell_type": "markdown",
   "metadata": {}
  },
  {
   "cell_type": "code",
   "execution_count": 3,
   "metadata": {},
   "outputs": [
    {
     "output_type": "stream",
     "name": "stdout",
     "text": [
      "1.36\n-2.42\n"
     ]
    }
   ],
   "source": [
    "coordinates = (1.36, -2.42)\n",
    "latitude, longitude = coordinates\n",
    "\n",
    "print(latitude)\n",
    "print(longitude)"
   ]
  },
  {
   "source": [
    "You can use the `index()` method to obtain the index of a given tuple item:"
   ],
   "cell_type": "markdown",
   "metadata": {}
  },
  {
   "source": [
    "my_tuple = ('foo', 'bar')\n",
    "\n",
    "print(my_tuple.index('bar'))"
   ],
   "cell_type": "code",
   "metadata": {},
   "execution_count": 4,
   "outputs": [
    {
     "output_type": "stream",
     "name": "stdout",
     "text": [
      "1\n"
     ]
    }
   ]
  },
  {
   "source": [
    "You can use negative indices with tuples too:"
   ],
   "cell_type": "markdown",
   "metadata": {}
  },
  {
   "cell_type": "code",
   "execution_count": 5,
   "metadata": {},
   "outputs": [
    {
     "output_type": "stream",
     "name": "stdout",
     "text": [
      "foo\n"
     ]
    }
   ],
   "source": [
    "print(my_tuple[-2])"
   ]
  },
  {
   "cell_type": "code",
   "execution_count": null,
   "metadata": {},
   "outputs": [],
   "source": [
    "And you can use `len()` global function to get the number of items of a tuple:"
   ]
  },
  {
   "cell_type": "code",
   "execution_count": 6,
   "metadata": {},
   "outputs": [
    {
     "output_type": "execute_result",
     "data": {
      "text/plain": [
       "2"
      ]
     },
     "metadata": {},
     "execution_count": 6
    }
   ],
   "source": [
    "len(my_tuple)"
   ]
  },
  {
   "source": [
    "And you can use `in` to check if an item is contained in a tuple:"
   ],
   "cell_type": "markdown",
   "metadata": {}
  },
  {
   "cell_type": "code",
   "execution_count": 7,
   "metadata": {},
   "outputs": [
    {
     "output_type": "stream",
     "name": "stdout",
     "text": [
      "True\nFalse\n"
     ]
    }
   ],
   "source": [
    "print('foo' in my_tuple)\n",
    "print('foobar' in my_tuple)"
   ]
  },
  {
   "source": [
    "You can extract a part of a tuple using slices:"
   ],
   "cell_type": "markdown",
   "metadata": {}
  },
  {
   "cell_type": "code",
   "execution_count": 8,
   "metadata": {},
   "outputs": [
    {
     "output_type": "stream",
     "name": "stdout",
     "text": [
      "('two', 'three')\n"
     ]
    }
   ],
   "source": [
    "my_tuple = ('one', 'two', 'three', 14)\n",
    "\n",
    "print(my_tuple[1:3])"
   ]
  },
  {
   "source": [
    "You can use the `+` operator to create new tuples from existing ones (remember, tuples are immutable):"
   ],
   "cell_type": "markdown",
   "metadata": {}
  },
  {
   "cell_type": "code",
   "execution_count": 10,
   "metadata": {},
   "outputs": [
    {
     "output_type": "stream",
     "name": "stdout",
     "text": [
      "('foo', 'bar', 14)\n"
     ]
    }
   ],
   "source": [
    "my_tuple = ('foo', 'bar')\n",
    "\n",
    "new_tuple = my_tuple + (14,)\n",
    "\n",
    "print(new_tuple)"
   ]
  }
 ]
}