{
 "metadata": {
  "language_info": {
   "codemirror_mode": {
    "name": "ipython",
    "version": 3
   },
   "file_extension": ".py",
   "mimetype": "text/x-python",
   "name": "python",
   "nbconvert_exporter": "python",
   "pygments_lexer": "ipython3",
   "version": "3.8.3-final"
  },
  "orig_nbformat": 2,
  "kernelspec": {
   "name": "python383jvsc74a57bd0ead85409a3df2736fa4852a03cf3afe7e5b1dbdc0e40d7d22bbcbf8cf1adf5fa",
   "display_name": "Python 3.8.3 64-bit ('base': conda)"
  }
 },
 "nbformat": 4,
 "nbformat_minor": 2,
 "cells": [
  {
   "source": [
    "# Python in Action\n",
    "## Part 1: Python Fundamentals\n",
    "### 32 &mdash; Virtual Environments and Installation\n",
    "> setting up shop with Python"
   ],
   "cell_type": "markdown",
   "metadata": {}
  },
  {
   "source": [
    "#### Virtual Environments\n",
    "\n",
    "It's common to have multiple Python environments with different 3rd party requirements: anaconda, python 3.8, small set of dependencies, etc.\n",
    "\n",
    "To solve this you can use *virtual environments*. When doing so, installation of 3rd party dependencies will happen on a particular folder different from the one used for global environment.\n",
    "\n",
    "The module used to create and manage virtual environments is called `venv`. `venv` will usually install the most recent version of Python.\n",
    "\n",
    "To create a virtual environment, create a directory where you want to place it, and run the `venv` module as seen below:\n",
    "\n",
    "```bash\n",
    "# this will also create the directory\n",
    "python3 -m venv <directory-for-the-virtual-env>\n",
    "```\n",
    "\n",
    "This will create the directory if it doesn't exist along with some additional directories that include the Python interpreter, standard libreary, and some other supporting files.\n",
    "\n",
    "Once created, you can activate the environment typing:\n",
    "\n",
    "```bash\n",
    "source <directory-for-the-virtual-env>/bin/activate\n",
    "```\n",
    "\n",
    "Once activated, all the corresponding `pip` installations will happen in that virtual environment."
   ],
   "cell_type": "markdown",
   "metadata": {}
  },
  {
   "cell_type": "code",
   "execution_count": null,
   "metadata": {},
   "outputs": [],
   "source": []
  },
  {
   "cell_type": "code",
   "execution_count": null,
   "metadata": {},
   "outputs": [],
   "source": []
  }
 ]
}