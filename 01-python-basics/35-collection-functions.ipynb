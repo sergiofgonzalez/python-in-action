{
 "metadata": {
  "language_info": {
   "codemirror_mode": {
    "name": "ipython",
    "version": 3
   },
   "file_extension": ".py",
   "mimetype": "text/x-python",
   "name": "python",
   "nbconvert_exporter": "python",
   "pygments_lexer": "ipython3",
   "version": "3.8.3-final"
  },
  "orig_nbformat": 2,
  "kernelspec": {
   "name": "python383jvsc74a57bd0ead85409a3df2736fa4852a03cf3afe7e5b1dbdc0e40d7d22bbcbf8cf1adf5fa",
   "display_name": "Python 3.8.3 64-bit ('base': conda)"
  }
 },
 "nbformat": 4,
 "nbformat_minor": 2,
 "cells": [
  {
   "source": [
    "# Python in Action\n",
    "## Part 1: Python Fundamentals\n",
    "### 35 &mdash; Collection functions\n",
    "> useful Collection functions: sum, max, min, sorted..."
   ],
   "cell_type": "markdown",
   "metadata": {}
  },
  {
   "source": [
    "Python provides a group of useful global functions for collections:\n",
    "+ `sum` &mdash; sums the elements of a collection\n",
    "+ `max` &mdash; returns the maximum element of a collection\n",
    "+ `min` &mdash; return the minimum element of a collection\n",
    "+ `sorted` &mdash; returns a sorted collection from the given one without mutating the original collection\n",
    "+ `reversed` &mdash; returns a reversed collection from the given one without mutating the original collection\n"
   ],
   "cell_type": "markdown",
   "metadata": {}
  },
  {
   "cell_type": "code",
   "execution_count": 8,
   "metadata": {},
   "outputs": [
    {
     "output_type": "stream",
     "name": "stdout",
     "text": [
      "6\n3\n1\n[6, 10, 7, 8, 5, 0, 8, 3, 7, 6]\n[0, 3, 5, 6, 6, 7, 7, 8, 8, 10]\n[6, 10, 7, 8, 5, 0, 8, 3, 7, 6]\n[5, 4, 3, 2, 1]\n[1, 2, 3, 4, 5]\n"
     ]
    }
   ],
   "source": [
    "import random\n",
    "\n",
    "print(sum([1, 2, 3]))\n",
    "print(max([1, 2, 3]))\n",
    "print(min([1, 2, 3]))\n",
    "\n",
    "unsorted_nums = [random.randint(0, 10) for _ in range(0, 10) ]\n",
    "print(unsorted_nums)\n",
    "print(sorted(unsorted_nums))\n",
    "print(unsorted_nums) # original list has not been mutated\n",
    "\n",
    "nums = [1, 2, 3, 4, 5]\n",
    "print(list(reversed(nums))) # list is needed to materialize\n",
    "print(nums) # original list has not been mutated"
   ]
  },
  {
   "cell_type": "code",
   "execution_count": null,
   "metadata": {},
   "outputs": [],
   "source": []
  }
 ]
}