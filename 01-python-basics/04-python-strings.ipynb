{
 "metadata": {
  "language_info": {
   "codemirror_mode": {
    "name": "ipython",
    "version": 3
   },
   "file_extension": ".py",
   "mimetype": "text/x-python",
   "name": "python",
   "nbconvert_exporter": "python",
   "pygments_lexer": "ipython3",
   "version": "3.8.3-final"
  },
  "orig_nbformat": 2,
  "kernelspec": {
   "name": "python383jvsc74a57bd0ead85409a3df2736fa4852a03cf3afe7e5b1dbdc0e40d7d22bbcbf8cf1adf5fa",
   "display_name": "Python 3.8.3 64-bit ('base': conda)"
  }
 },
 "nbformat": 4,
 "nbformat_minor": 2,
 "cells": [
  {
   "source": [
    "# Python in Action\n",
    "## Part 1: Python Fundamentals\n",
    "### 04 &mdash; Strings in Python\n",
    "> String basics"
   ],
   "cell_type": "markdown",
   "metadata": {}
  },
  {
   "source": [
    "#### Basics\n",
    "\n",
    "Strings in Python can be enclosed in quotes or double quotes:"
   ],
   "cell_type": "markdown",
   "metadata": {}
  },
  {
   "cell_type": "code",
   "execution_count": 13,
   "metadata": {},
   "outputs": [
    {
     "output_type": "stream",
     "name": "stdout",
     "text": [
      "True\n"
     ]
    }
   ],
   "source": [
    "greeting = 'Hello to Jason Isaacs'\n",
    "greeting2 = \"Hello to Jason Isaacs\"\n",
    "\n",
    "print(greeting == greeting2)"
   ]
  },
  {
   "source": [
    "You can use `+` to concatenate strings and `+=` to append:"
   ],
   "cell_type": "markdown",
   "metadata": {}
  },
  {
   "cell_type": "code",
   "execution_count": 14,
   "metadata": {},
   "outputs": [
    {
     "output_type": "stream",
     "name": "stdout",
     "text": [
      "Hello Jason Isaacs\n"
     ]
    }
   ],
   "source": [
    "greeting = 'Hello, ' + ' '\n",
    "greeting += 'Jason Isaacs'\n",
    "\n",
    "print(greeting)"
   ]
  },
  {
   "source": [
    "You can use `str` to concatenate numbers and strings:"
   ],
   "cell_type": "markdown",
   "metadata": {}
  },
  {
   "cell_type": "code",
   "execution_count": 17,
   "metadata": {},
   "outputs": [
    {
     "output_type": "stream",
     "name": "stdout",
     "text": [
      "Hi, I am 8 years old\n"
     ]
    }
   ],
   "source": [
    "# greeting = 'Hi, I am ' + 8 + ' years old' # TypeError: can't concat int and string\n",
    "greeting = 'Hi, I am ' + str(8) + ' years old'\n",
    "print(greeting)"
   ]
  },
  {
   "source": [
    "You can use multiline strings in Python using `\"\"\"`:"
   ],
   "cell_type": "markdown",
   "metadata": {}
  },
  {
   "cell_type": "code",
   "execution_count": 1,
   "metadata": {},
   "outputs": [
    {
     "output_type": "stream",
     "name": "stdout",
     "text": [
      "Hi\nthis is a multiline\n\nstring\n\n"
     ]
    }
   ],
   "source": [
    "multiline_str = \"\"\"Hi\n",
    "this is a multiline\n",
    "\n",
    "string\n",
    "\"\"\"\n",
    "\n",
    "print(multiline_str)"
   ]
  },
  {
   "source": [
    "Strings has a bunch of built-in methods:\n",
    "\n",
    "+ `isalpha()` &mdash; true if the string contains only chars and is not empty"
   ],
   "cell_type": "markdown",
   "metadata": {}
  },
  {
   "cell_type": "code",
   "execution_count": 4,
   "metadata": {},
   "outputs": [
    {
     "output_type": "stream",
     "name": "stdout",
     "text": [
      "True\nFalse\nFalse\n"
     ]
    }
   ],
   "source": [
    "name_str = 'Jason'\n",
    "full_name_str = 'Jason Isaacs'\n",
    "num_str = '8'\n",
    "\n",
    "print(name_str.isalpha())\n",
    "print(full_name_str.isalpha())\n",
    "print(num_str.isalpha())"
   ]
  },
  {
   "source": [
    "+ `isalnum()` &mdash; true if the string contains characters of digits and is not empty\n",
    "\n",
    "+ `isdecimal()` &mdash; true if a string contains digits and is not empty\n",
    "\n",
    "+ `lower()` &mdash; returns a lowercase version of a string\n",
    "\n",
    "+ `islower()` &mdash; true if a string is lowercase\n",
    "\n",
    "+ `upper()` &mdash; returns an uppercase version of a string\n",
    "\n",
    "+ `isupper()` &mdash; true if a string is uppercase\n",
    "\n",
    "+ `title()` &mdash; gets a capitalized version of a string\n",
    "\n",
    "+ `startswith()` &mdash; checks if a string starts with a specific substring\n",
    "\n",
    "+ `endswith()` &mdash; checks if a string ends with a specific string\n",
    "\n",
    "+ `replace()` &mdash; replaces a part of a string\n",
    "\n",
    "+ `split()` &mdash; splits a string on a specific character\n",
    "\n",
    "+ `strip()` &mdash; trims whitespace characters from a string\n",
    "\n",
    "+ `join()` &mdash; joins strings\n",
    "\n",
    "+ `find()` mdash; finds the position of a substring\n",
    "\n",
    "All those methods work in the same way &mdash; they return a new immutable string without modifying the original string."
   ],
   "cell_type": "markdown",
   "metadata": {}
  },
  {
   "cell_type": "code",
   "execution_count": 5,
   "metadata": {},
   "outputs": [
    {
     "output_type": "stream",
     "name": "stdout",
     "text": [
      "jason isaacs\nJason Isaacs\n"
     ]
    }
   ],
   "source": [
    "name = 'Jason Isaacs'\n",
    "print(name.lower())\n",
    "print(name)"
   ]
  },
  {
   "source": [
    "The `len(str)` global function returns the length of string:"
   ],
   "cell_type": "markdown",
   "metadata": {}
  },
  {
   "cell_type": "code",
   "execution_count": 6,
   "metadata": {},
   "outputs": [
    {
     "output_type": "stream",
     "name": "stdout",
     "text": [
      "12\n"
     ]
    }
   ],
   "source": [
    "name = 'Jason Isaacs'\n",
    "print(len(name))"
   ]
  },
  {
   "source": [
    "The `in` operator can be used to check if a string contains a substring:"
   ],
   "cell_type": "markdown",
   "metadata": {}
  },
  {
   "cell_type": "code",
   "execution_count": 7,
   "metadata": {},
   "outputs": [
    {
     "output_type": "stream",
     "name": "stdout",
     "text": [
      "True\n"
     ]
    }
   ],
   "source": [
    "print('son' in 'Jason Isaacs')"
   ]
  },
  {
   "source": [
    "In Python you can escape characters within a string with `\\`, for example:"
   ],
   "cell_type": "markdown",
   "metadata": {}
  },
  {
   "cell_type": "code",
   "execution_count": 8,
   "metadata": {},
   "outputs": [
    {
     "output_type": "stream",
     "name": "stdout",
     "text": [
      "Your name is \"Jason Isaacs\"\n"
     ]
    }
   ],
   "source": [
    "print(\"Your name is \\\"Jason Isaacs\\\"\")"
   ]
  },
  {
   "source": [
    "You can access the individual characters of a string using `str[<index>]`.\n",
    "\n",
    "You can use negative numbers to access characters from the end of the string:"
   ],
   "cell_type": "markdown",
   "metadata": {}
  },
  {
   "cell_type": "code",
   "execution_count": 9,
   "metadata": {},
   "outputs": [
    {
     "output_type": "stream",
     "name": "stdout",
     "text": [
      "f\no\nr\na\n"
     ]
    }
   ],
   "source": [
    "name = 'foobar'\n",
    "print(name[0])\n",
    "print(name[1])\n",
    "print(name[-1])\n",
    "print(name[-2])"
   ]
  },
  {
   "source": [
    "You can *slice* strings using ranges:"
   ],
   "cell_type": "markdown",
   "metadata": {}
  },
  {
   "cell_type": "code",
   "execution_count": 13,
   "metadata": {},
   "outputs": [
    {
     "output_type": "stream",
     "name": "stdout",
     "text": [
      "fo\nbar\nfo\nooba\n"
     ]
    }
   ],
   "source": [
    "name = 'foobar'\n",
    "\n",
    "print(name[0:2])\n",
    "print(name[3:])\n",
    "print(name[:2])\n",
    "print(name[1:-1])"
   ]
  },
  {
   "source": [
    "#### String formatting\n",
    "\n",
    "Python 3.6 introduced *f-string formatting*, a kind of template string that lets you inject variable values into strings very easily."
   ],
   "cell_type": "markdown",
   "metadata": {}
  },
  {
   "cell_type": "code",
   "execution_count": 4,
   "metadata": {},
   "outputs": [
    {
     "output_type": "stream",
     "name": "stdout",
     "text": [
      "Hi, this is foo\n"
     ]
    }
   ],
   "source": [
    "name = 'foo'\n",
    "\n",
    "print(f'Hi, this is {name}')"
   ]
  },
  {
   "cell_type": "code",
   "execution_count": null,
   "metadata": {},
   "outputs": [],
   "source": [
    "Alternatively, you can do:"
   ]
  },
  {
   "cell_type": "code",
   "execution_count": 6,
   "metadata": {},
   "outputs": [
    {
     "output_type": "stream",
     "name": "stdout",
     "text": [
      "Hi, this is bar\n"
     ]
    }
   ],
   "source": [
    "name = 'bar'\n",
    "\n",
    "print('Hi, this is {}'.format(name))"
   ]
  },
  {
   "source": [
    "... but it is way more verbose."
   ],
   "cell_type": "markdown",
   "metadata": {}
  }
 ]
}