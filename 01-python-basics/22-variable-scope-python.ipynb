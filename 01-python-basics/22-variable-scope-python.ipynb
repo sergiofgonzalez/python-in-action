{
 "metadata": {
  "language_info": {
   "codemirror_mode": {
    "name": "ipython",
    "version": 3
   },
   "file_extension": ".py",
   "mimetype": "text/x-python",
   "name": "python",
   "nbconvert_exporter": "python",
   "pygments_lexer": "ipython3",
   "version": "3.8.3-final"
  },
  "orig_nbformat": 2,
  "kernelspec": {
   "name": "python3",
   "display_name": "Python 3.8.3 64-bit ('base': conda)",
   "metadata": {
    "interpreter": {
     "hash": "ead85409a3df2736fa4852a03cf3afe7e5b1dbdc0e40d7d22bbcbf8cf1adf5fa"
    }
   }
  }
 },
 "nbformat": 4,
 "nbformat_minor": 2,
 "cells": [
  {
   "source": [
    "# Python in Action\n",
    "## Part 1: Python Fundamentals\n",
    "### 22 &mdash; Variable scope rules in Python\n",
    "> scope and lifecycle of variables in Python\n",
    "\n"
   ],
   "cell_type": "markdown",
   "metadata": {}
  },
  {
   "source": [
    "When you declare a variable outside of any function in Python, the variable will be visible to any code after the declaration. That is called a global variable.\n",
    "\n",
    "Note that you will be able to see the value of the variable without requiring any additional keyword.\n",
    "\n",
    "See below about the use of the `global` keyword when you need to modify the value of a global variable:"
   ],
   "cell_type": "markdown",
   "metadata": {}
  },
  {
   "cell_type": "code",
   "execution_count": 1,
   "metadata": {},
   "outputs": [
    {
     "output_type": "stream",
     "name": "stdout",
     "text": [
      "Hello, Jason\nYour name is Jason\n"
     ]
    }
   ],
   "source": [
    "name = 'Jason'\n",
    "\n",
    "def say_hello():\n",
    "    print(f'Hello, {name}')\n",
    "\n",
    "say_hello()\n",
    "print('Your name is ' + name)"
   ]
  },
  {
   "source": [
    "When you define a variable inside a function, that function will only be visible within that function. That is called a local variable:"
   ],
   "cell_type": "markdown",
   "metadata": {}
  },
  {
   "cell_type": "code",
   "execution_count": 4,
   "metadata": {},
   "outputs": [
    {
     "output_type": "stream",
     "name": "stdout",
     "text": [
      "Hello, Idris!\nJason\n"
     ]
    }
   ],
   "source": [
    "name = 'Jason'\n",
    "\n",
    "def say_hello():\n",
    "    name = 'Idris'\n",
    "    print(f'Hello, {name}!')\n",
    "\n",
    "say_hello()\n",
    "print(name)"
   ]
  },
  {
   "source": [
    "#### The `global` keyword\n",
    "\n",
    "There might be situations on which you would like to modify the value of a global variable within the scope of a function.\n",
    "\n",
    "When that happens, you will be required to use the `global` keyword:"
   ],
   "cell_type": "markdown",
   "metadata": {}
  },
  {
   "cell_type": "code",
   "execution_count": 6,
   "metadata": {},
   "outputs": [
    {
     "output_type": "stream",
     "name": "stdout",
     "text": [
      "Hi, Jason!\nHI, JASON!\nJASON\n"
     ]
    }
   ],
   "source": [
    "name = 'Jason'\n",
    "\n",
    "def say_hello():\n",
    "    print(f'Hi, {name}!')\n",
    "\n",
    "def holler_hello():\n",
    "    global name\n",
    "    name = name.upper()\n",
    "    print(f'HI, {name}!')\n",
    "\n",
    "say_hello()\n",
    "holler_hello()\n",
    "print(name)"
   ]
  },
  {
   "cell_type": "code",
   "execution_count": null,
   "metadata": {},
   "outputs": [],
   "source": []
  }
 ]
}