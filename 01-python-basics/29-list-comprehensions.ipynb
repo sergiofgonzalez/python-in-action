{
 "metadata": {
  "language_info": {
   "codemirror_mode": {
    "name": "ipython",
    "version": 3
   },
   "file_extension": ".py",
   "mimetype": "text/x-python",
   "name": "python",
   "nbconvert_exporter": "python",
   "pygments_lexer": "ipython3",
   "version": "3.8.3-final"
  },
  "orig_nbformat": 2,
  "kernelspec": {
   "name": "python383jvsc74a57bd0ead85409a3df2736fa4852a03cf3afe7e5b1dbdc0e40d7d22bbcbf8cf1adf5fa",
   "display_name": "Python 3.8.3 64-bit ('base': conda)"
  }
 },
 "nbformat": 4,
 "nbformat_minor": 2,
 "cells": [
  {
   "source": [
    "# Python in Action\n",
    "## Part 1: Python Fundamentals\n",
    "### 29 &mdash; List comprehensions in Python\n",
    "> a more functional way to create lists"
   ],
   "cell_type": "markdown",
   "metadata": {}
  },
  {
   "source": [
    "List comprehensions allow you to create lists in Python in a very concise and terse way.\n",
    "\n",
    "Initially, they might seem to be more difficult to read than its *imperative* counterpart, but over the time you will see that it is clearer and more efficient.\n",
    "\n",
    "Let's see an example. Suppose we need to compute the power of two of a list of numbers:"
   ],
   "cell_type": "markdown",
   "metadata": {}
  },
  {
   "cell_type": "code",
   "execution_count": 4,
   "metadata": {},
   "outputs": [
    {
     "output_type": "stream",
     "name": "stdout",
     "text": [
      "range(0, 6)\n"
     ]
    }
   ],
   "source": [
    "numbers = range(0, 6)\n",
    "numbers_power_2 = []\n",
    "\n",
    "for n in numbers:\n",
    "    numbers_power_2.append(n ** 2)\n",
    "\n",
    "print(numbers)\n"
   ]
  },
  {
   "source": [
    "When using list comprehensions, it becomes clearer and more *functional*:"
   ],
   "cell_type": "markdown",
   "metadata": {}
  },
  {
   "cell_type": "code",
   "execution_count": 3,
   "metadata": {},
   "outputs": [
    {
     "output_type": "stream",
     "name": "stdout",
     "text": [
      "[0, 1, 4, 9, 16, 25]\n"
     ]
    }
   ],
   "source": [
    "numbers = range(0, 6)\n",
    "\n",
    "numbers_power_2 = [n ** 2 for n in numbers]\n",
    "print(numbers_power_2)"
   ]
  },
  {
   "cell_type": "code",
   "execution_count": null,
   "metadata": {},
   "outputs": [],
   "source": [
    "And also clearer than using `map()`:"
   ]
  },
  {
   "cell_type": "code",
   "execution_count": 5,
   "metadata": {},
   "outputs": [
    {
     "output_type": "stream",
     "name": "stdout",
     "text": [
      "[0, 1, 4, 9, 16, 25]\n"
     ]
    }
   ],
   "source": [
    "numbers = range(0, 6)\n",
    "\n",
    "numbers_power_2 = list(map(lambda n : n ** 2, numbers))\n",
    "print(numbers_power_2)"
   ]
  },
  {
   "source": [
    "List comprehensions support nested for loops too:"
   ],
   "cell_type": "markdown",
   "metadata": {}
  },
  {
   "cell_type": "code",
   "execution_count": 2,
   "metadata": {},
   "outputs": [
    {
     "output_type": "stream",
     "name": "stdout",
     "text": [
      "['January, 2019', 'February, 2019', 'March, 2019', 'January, 2020', 'February, 2020', 'March, 2020', 'January, 2021', 'February, 2021', 'March, 2021']\n"
     ]
    }
   ],
   "source": [
    "months = ['January', 'February', 'March']\n",
    "years = [2019, 2020, 2021]\n",
    "\n",
    "combination = [ m + ', ' + str(y) for y in years for m in months]\n",
    "\n",
    "print(combination) # ['January, 2019', 'February, 2019', ...]"
   ]
  },
  {
   "source": [
    "You can also use list comprehensions and nested loops to create list of lists:"
   ],
   "cell_type": "markdown",
   "metadata": {}
  },
  {
   "cell_type": "code",
   "execution_count": 3,
   "metadata": {},
   "outputs": [
    {
     "output_type": "stream",
     "name": "stdout",
     "text": [
      "[['January, 2019', 'January, 2020', 'January, 2021'], ['February, 2019', 'February, 2020', 'February, 2021'], ['March, 2019', 'March, 2020', 'March, 2021']]\n"
     ]
    }
   ],
   "source": [
    "months = ['January', 'February', 'March']\n",
    "years = [2019, 2020, 2021]\n",
    "\n",
    "list_of_lists_combination = [[m + ', ' + str(y) for y in years] for m in months]\n",
    "\n",
    "print(list_of_lists_combination)"
   ]
  },
  {
   "source": [
    "Some additional use cases for list comprehensions when using nested loops:"
   ],
   "cell_type": "markdown",
   "metadata": {}
  },
  {
   "cell_type": "code",
   "execution_count": 4,
   "metadata": {},
   "outputs": [
    {
     "output_type": "stream",
     "name": "stdout",
     "text": [
      "[(-1, 0), (-1, 1), (0, 0), (0, 1), (1, 0), (1, 1), (2, 0), (2, 1), (3, 0), (3, 1), (4, 0), (4, 1), (5, 0), (5, 1)]\n"
     ]
    }
   ],
   "source": [
    "some_tuples = [(x, i) for x in range(-1, 6) for i in [0, 1]]\n",
    "print(some_tuples) # [(-1, 0), (-1, 1), (0, 0), (0, 1)...]"
   ]
  },
  {
   "cell_type": "code",
   "execution_count": null,
   "metadata": {},
   "outputs": [],
   "source": []
  }
 ]
}