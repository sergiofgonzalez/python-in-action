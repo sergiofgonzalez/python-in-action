{
 "metadata": {
  "language_info": {
   "codemirror_mode": {
    "name": "ipython",
    "version": 3
   },
   "file_extension": ".py",
   "mimetype": "text/x-python",
   "name": "python",
   "nbconvert_exporter": "python",
   "pygments_lexer": "ipython3",
   "version": "3.8.3-final"
  },
  "orig_nbformat": 2,
  "kernelspec": {
   "name": "python383jvsc74a57bd0ead85409a3df2736fa4852a03cf3afe7e5b1dbdc0e40d7d22bbcbf8cf1adf5fa",
   "display_name": "Python 3.8.3 64-bit ('base': conda)"
  }
 },
 "nbformat": 4,
 "nbformat_minor": 2,
 "cells": [
  {
   "source": [
    "# Python in Action\n",
    "## Part 2: Popular Python packages\n",
    "### 03 &mdash; `random`\n",
    "> common use cases for the `random` package"
   ],
   "cell_type": "markdown",
   "metadata": {}
  },
  {
   "source": [
    "Python excels for scientific and mathematical use cases. In particular, the standard library includes a `random` module that provides very robust support for generating pseudo-random values."
   ],
   "cell_type": "markdown",
   "metadata": {}
  },
  {
   "source": [
    "#### `randint(...)`: obtaining a random integer\n",
    "\n",
    "The `randint(a, b)` function returns a random integer $ N $ such that $ a \\le N \\le b $.\n",
    "\n",
    "| NOTE: |\n",
    "| :---- |\n",
    "| `randint(a, b)` is an alias for `randrange(a, b + 1)`. |"
   ],
   "cell_type": "markdown",
   "metadata": {}
  },
  {
   "cell_type": "code",
   "execution_count": 1,
   "metadata": {},
   "outputs": [
    {
     "output_type": "stream",
     "name": "stdout",
     "text": [
      "0: 7\n1: 2\n2: 9\n3: 2\n4: 8\n"
     ]
    }
   ],
   "source": [
    "from random import randint\n",
    "\n",
    "for i in range(0, 5):\n",
    "    print(f'{i}: {randint(0, 10)}')"
   ]
  },
  {
   "source": [
    "#### `uniform(...)`: obtaining a random floating point number\n",
    "\n",
    "`uniform(a, b)` returns a random floating point number between `a` and `b`. The endpoint value `b` may or may not be included in the range depending on rounding."
   ],
   "cell_type": "markdown",
   "metadata": {}
  },
  {
   "cell_type": "code",
   "execution_count": 2,
   "metadata": {},
   "outputs": [
    {
     "output_type": "stream",
     "name": "stdout",
     "text": [
      "0: 3.9843048834077455\n1: 0.07612254401200502\n2: 8.921461833864054\n3: 1.1530362612906209\n4: 0.2981124376814559\n"
     ]
    }
   ],
   "source": [
    "from random import uniform\n",
    "\n",
    "for i in range(0, 5):\n",
    "    print(f'{i}: {uniform(0, 10)}')"
   ]
  },
  {
   "cell_type": "code",
   "execution_count": null,
   "metadata": {},
   "outputs": [],
   "source": []
  }
 ]
}