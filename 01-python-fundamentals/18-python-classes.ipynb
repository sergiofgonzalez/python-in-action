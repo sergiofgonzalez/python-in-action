{
 "metadata": {
  "language_info": {
   "codemirror_mode": {
    "name": "ipython",
    "version": 3
   },
   "file_extension": ".py",
   "mimetype": "text/x-python",
   "name": "python",
   "nbconvert_exporter": "python",
   "pygments_lexer": "ipython3",
   "version": "3.8.3-final"
  },
  "orig_nbformat": 2,
  "kernelspec": {
   "name": "python3",
   "display_name": "Python 3.8.3 64-bit ('base': conda)",
   "metadata": {
    "interpreter": {
     "hash": "ead85409a3df2736fa4852a03cf3afe7e5b1dbdc0e40d7d22bbcbf8cf1adf5fa"
    }
   }
  }
 },
 "nbformat": 4,
 "nbformat_minor": 2,
 "cells": [
  {
   "source": [
    "# Python in Action\n",
    "## Part 1: Python Fundamentals\n",
    "### 18 &mdash; Classes in Python\n",
    "> classes in Python\n",
    "\n"
   ],
   "cell_type": "markdown",
   "metadata": {}
  },
  {
   "source": [
    "Classes in Python are declared using the syntax:\n",
    "\n",
    "```python\n",
    "class <my_class_name>:\n",
    "    # class\n",
    "```"
   ],
   "cell_type": "markdown",
   "metadata": {}
  },
  {
   "source": [
    "Methods are defined using the `def` keyword, and must include `self` in the signature. The `self` argument is a reference to the current object instance:"
   ],
   "cell_type": "markdown",
   "metadata": {}
  },
  {
   "cell_type": "code",
   "execution_count": 2,
   "metadata": {},
   "outputs": [],
   "source": [
    "class Duck:\n",
    "    def quack(self):\n",
    "        print('quack!')"
   ]
  },
  {
   "source": [
    "In Python, objects are instantiated using the following syntax:\n",
    "\n",
    "```python\n",
    "<obj_instance> = <class_name>()\n",
    "```"
   ],
   "cell_type": "markdown",
   "metadata": {}
  },
  {
   "cell_type": "code",
   "execution_count": 3,
   "metadata": {},
   "outputs": [
    {
     "output_type": "stream",
     "name": "stdout",
     "text": [
      "quack!\n"
     ]
    }
   ],
   "source": [
    "class Duck:\n",
    "    def quack(self):\n",
    "        print('quack!')\n",
    "\n",
    "don = Duck()\n",
    "don.quack()"
   ]
  },
  {
   "source": [
    "Constructors in Python are declared using function name `__init__`:"
   ],
   "cell_type": "markdown",
   "metadata": {}
  },
  {
   "cell_type": "code",
   "execution_count": 5,
   "metadata": {},
   "outputs": [
    {
     "output_type": "stream",
     "name": "stdout",
     "text": [
      "The pearl white duck named Don says: quack!\n"
     ]
    }
   ],
   "source": [
    "class Duck:\n",
    "\n",
    "    def __init__(self, name, color):\n",
    "        self.name = name\n",
    "        self.color = color\n",
    "\n",
    "    def quack(self):\n",
    "        print(f'The {self.color} duck named {self.name} says: quack!')\n",
    "\n",
    "\n",
    "don = Duck('Don', 'pearl white')\n",
    "don.quack()"
   ]
  },
  {
   "source": [
    "From outside the class, you can access the class properties using the `.` notation:"
   ],
   "cell_type": "markdown",
   "metadata": {}
  },
  {
   "cell_type": "code",
   "execution_count": 6,
   "metadata": {},
   "outputs": [
    {
     "output_type": "stream",
     "name": "stdout",
     "text": [
      "duck's name is Don\n"
     ]
    }
   ],
   "source": [
    "print(f'duck\\'s name is {don.name}')"
   ]
  },
  {
   "source": [
    "Class Inheritance in Python:\n",
    "\n",
    "```python\n",
    "class <my-base-class>:\n",
    "    # my class methods\n",
    "\n",
    "class <my-sub-class>(<my-base-class>):\n",
    "    # my subclass methods\n",
    "```"
   ],
   "cell_type": "markdown",
   "metadata": {}
  },
  {
   "cell_type": "code",
   "execution_count": 8,
   "metadata": {},
   "outputs": [
    {
     "output_type": "stream",
     "name": "stdout",
     "text": [
      "Be careful! Tom, the dark brown duck wants to bite you\n"
     ]
    }
   ],
   "source": [
    "class KillerDuck(Duck):\n",
    "    def bite(self):\n",
    "        print(f'Be careful! {self.name}, the {self.color} duck wants to bite you')\n",
    "\n",
    "tom = KillerDuck('Tom', 'dark brown')\n",
    "tom.bite()"
   ]
  }
 ]
}