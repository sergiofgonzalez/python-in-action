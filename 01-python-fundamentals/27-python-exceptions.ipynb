{
 "metadata": {
  "language_info": {
   "codemirror_mode": {
    "name": "ipython",
    "version": 3
   },
   "file_extension": ".py",
   "mimetype": "text/x-python",
   "name": "python",
   "nbconvert_exporter": "python",
   "pygments_lexer": "ipython3",
   "version": "3.8.3-final"
  },
  "orig_nbformat": 2,
  "kernelspec": {
   "name": "python383jvsc74a57bd0ead85409a3df2736fa4852a03cf3afe7e5b1dbdc0e40d7d22bbcbf8cf1adf5fa",
   "display_name": "Python 3.8.3 64-bit ('base': conda)"
  }
 },
 "nbformat": 4,
 "nbformat_minor": 2,
 "cells": [
  {
   "source": [
    "# Python in Action\n",
    "## Part 1: Python Fundamentals\n",
    "### 27 &mdash; Exceptions in Python\n",
    "> error handling"
   ],
   "cell_type": "markdown",
   "metadata": {}
  },
  {
   "source": [
    "Python features *try* mechanisms to handle errors in a consistent and standard way."
   ],
   "cell_type": "markdown",
   "metadata": {}
  },
  {
   "source": [
    "In its simplest form, a *try* block looks like this:\n",
    "\n",
    "```python\n",
    "try:\n",
    "    # ... block of code that might throw exceptions ...\n",
    "except <ExceptionType>:\n",
    "    # ... handling of exception of type ExceptionType ...\n",
    "```"
   ],
   "cell_type": "markdown",
   "metadata": {}
  },
  {
   "source": [
    "But it is common to find more complicated forms that include several exception types, an `else` block to do something when no exceptions were found, and a `finally` block when you want to run somethind whether an exception was run or not:\n",
    "\n",
    "```python\n",
    "try:\n",
    "    # ... block of code that might throw exceptions ...\n",
    "except <ExceptionType_1>[ as <err1>]:\n",
    "    # ... handling of exception of type ExceptionType ...\n",
    "except <ExceptionType_2>[ as <err2>]:\n",
    "    # ... handling of exception of type ExceptionType ...\n",
    "except [<Exception> as <errN>]:\n",
    "    # ... a non-expected type of Exception was thrown ...\n",
    "else:\n",
    "    # ... no exception was raised in the try block ...\n",
    "finally:\n",
    "    # ... cleaning up resources ...\n",
    "```"
   ],
   "cell_type": "markdown",
   "metadata": {}
  },
  {
   "cell_type": "code",
   "execution_count": 2,
   "metadata": {},
   "outputs": [
    {
     "output_type": "stream",
     "name": "stdout",
     "text": [
      "An error occurred: division by zero\n"
     ]
    }
   ],
   "source": [
    "def divide(dividend, divisor):\n",
    "    try:\n",
    "        result = dividend / divisor\n",
    "    except TypeError:\n",
    "        print('TypeError: arguments must be numbers!')\n",
    "    except Exception as err:\n",
    "        print('An error occurred: {}'.format(err))\n",
    "\n",
    "divide(2, 0)"
   ]
  },
  {
   "source": [
    "Exceptions are thrown using the `raise` statement:"
   ],
   "cell_type": "markdown",
   "metadata": {}
  },
  {
   "cell_type": "code",
   "execution_count": 4,
   "metadata": {},
   "outputs": [
    {
     "output_type": "stream",
     "name": "stdout",
     "text": [
      "A general exception has occurred\nIt was the wrong type\n"
     ]
    }
   ],
   "source": [
    "try:\n",
    "    raise Exception('A general exception has occurred')\n",
    "except Exception as err:\n",
    "    print(err)\n",
    "\n",
    "try:\n",
    "    raise TypeError('It was the wrong type')\n",
    "except Exception as err:\n",
    "    print(err)    "
   ]
  },
  {
   "cell_type": "code",
   "execution_count": null,
   "metadata": {},
   "outputs": [],
   "source": [
    "You can also create your own exception classes by extending the `Exception` class:"
   ]
  },
  {
   "cell_type": "code",
   "execution_count": 5,
   "metadata": {},
   "outputs": [
    {
     "output_type": "stream",
     "name": "stdout",
     "text": [
      "I own this exception\n"
     ]
    }
   ],
   "source": [
    "class MyCustomException(Exception):\n",
    "    pass\n",
    "\n",
    "try:\n",
    "    raise MyCustomException('I own this exception')\n",
    "except Exception as err:\n",
    "    print(err)"
   ]
  },
  {
   "source": [
    "| NOTE: |\n",
    "| :---- |\n",
    "| `pass` is a *NOOP* statement typically used to create empty classes. |"
   ],
   "cell_type": "markdown",
   "metadata": {}
  },
  {
   "cell_type": "code",
   "execution_count": null,
   "metadata": {},
   "outputs": [],
   "source": [
    "#### The `with` statement\n",
    "\n",
    "The `with` statement in Python makes it possible to factor out standard uses of *try/finally* statements such as the following:"
   ]
  },
  {
   "cell_type": "code",
   "execution_count": 1,
   "metadata": {},
   "outputs": [
    {
     "output_type": "stream",
     "name": "stdout",
     "text": [
      "# 01 &mdash; Python basics\n> TBD\n\n## Introduction\nWe will be using Python 3. The easiest way to start for Python beginners is to download and install Anaconda from https://anaconda.com.\n\nThe Anaconda packages will be installed under `home/<username>/anaconda3`.\n\nOnce installed, you can do:\n\n```bash\n$ python\nPython 3.8.3 (default, Jul  2 2020, 16:21:59)\n[GCC 7.3.0] :: Anaconda, Inc. on linux\nType \"help\", \"copyright\", \"credits\" or \"license\" for more information.\n>>>\n```\n\nTyping *CTRL+D* or `exit()` will let you exit the REPL interactive session.\n\nThe *REPL* will also allow you to enter multi-line inputs, like the canonical hello world:\n\n```python\n>>> def sayHelloWorld():\n...   print(\"Hello, world!\")\n...\n>>> sayHelloWorld()\nHello, world!\n>>>\n```\n\nOr simple mathematical functions:\n\n```python\n>>> def f(x):\n...   return x * x\n...\n>>> f(5)\n25\n>>>\n```\n\n## Creating and Running Script Files\nInstalled Python extension in VSCode typying *CTRL+P* and then: `ext install ms-python.python`. Then I had to click on the status line at the bottom to switch from the default Python environment to the Python *conda* distribution.\n\nAlso, wanted to remove the `\"(base)\"` from the prompt, so I did: `conda config --set auto_activate_base false`\n\n## Running Jupyter Notebooks\nA Jupyter Notebook is a graphical interface for coding in Python.\n\nTo open the Jupyter Notebook interface type `python -m notebook`.\n\n\n## Style Guide\n\nThis section summarizes the official style guide for Python code as described in [PEP 8 &mdash; Style Guide for Python Code](https://www.python.org/dev/peps/pep-0008/)\n\nThe principle for style guide is to give a series of simple rules that should be used to improve the readability of the code and make it consistent across libraries and projects.\n\nIt is also important to understand that this style guide should be taken as a pragmatic document: under certain circumstances it should be OK to break the rules for the sake of simplicity, or even readability.\n\nConfiguration:\n+ Enable PyLint (very permissive on vscode)\n+ Enable Pycodestyle\n\nGoogle style guide:\nhttps://google.github.io/styleguide/pyguide.html\n\nEnable ide, then run in command line in CI/CD\n\n## Structure of the projects\n\nhttps://docs.python-guide.org/writing/structure/\n\nRequirements file:\n\nfiles contain a list of items to be installed using pip install like:\n\n```\npython -m pip install -r requirements.txt\n```\n\nIt is just a list of pip install arguments placed in a file. You should not rely in any particular order.\n\npip freeze can be used to ensure repeatable installations. 3rd party libraries should use exact versions to ensure repeatable builds, as we cannot ensure that 3rd party modules follow semver.\n\nFor our own modules, we will use semver.\n\n## Docker guidelines\n\nRelease cycle is maintained in https://devguide.python.org/#status-of-python-branches\n\nStable version seems to be 3.8, in bugfix mode. It will be maintained until Oct 2024 and will accept bugfixes and security fixes over the stable version.\n\nDocker runtimes should be created from there.\n\nWe can create our own base image to control runtime, procedures, etc. Therefore, crawlers should use FROM [our own image].\n\n3.9 is also accepted as an stable version.\n\nSecrets management\n: access keys, connection strings should be externalized and handled as secrets\n\nThis is a great guide\nhttps://www.docker.com/blog/containerized-python-development-part-1/\n\nUse multi-stage builds for prod, not needed for dev.\n\n\n\n\n\n## FAQs\n\n### 1. When I type `python --version` I get 2.x.y instead of 3.x.y, how do I fix this?\nType `conda activate` to activate the Python version from the Conda distribution\n\n### 2. How do update the Anaconda distribution?\nType `conda update conda`\n\n## Useful References\n\n+ [Anaconda Individual Distribution User's Guide](https://conda.io/projects/conda/en/latest/user-guide/index.html)\n\n\n"
     ]
    }
   ],
   "source": [
    "filename = './README.md'\n",
    "\n",
    "try:\n",
    "    file = open(filename, 'r')\n",
    "    content = file.read()\n",
    "    print(content)\n",
    "finally:\n",
    "    file.close()"
   ]
  },
  {
   "source": [
    "Using the `with` statement is more terse and concise, and will have the same effect as the code above:"
   ],
   "cell_type": "markdown",
   "metadata": {}
  },
  {
   "cell_type": "code",
   "execution_count": null,
   "metadata": {},
   "outputs": [],
   "source": [
    "filename = './README.md'\n",
    "\n",
    "with open(filename, 'r') as file:\n",
    "    content = file.read()\n",
    "    print(content)"
   ]
  }
 ]
}