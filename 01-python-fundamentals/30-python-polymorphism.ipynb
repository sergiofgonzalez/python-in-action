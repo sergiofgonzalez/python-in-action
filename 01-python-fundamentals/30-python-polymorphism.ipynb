{
 "metadata": {
  "language_info": {
   "codemirror_mode": {
    "name": "ipython",
    "version": 3
   },
   "file_extension": ".py",
   "mimetype": "text/x-python",
   "name": "python",
   "nbconvert_exporter": "python",
   "pygments_lexer": "ipython3",
   "version": "3.8.3-final"
  },
  "orig_nbformat": 2,
  "kernelspec": {
   "name": "python383jvsc74a57bd0ead85409a3df2736fa4852a03cf3afe7e5b1dbdc0e40d7d22bbcbf8cf1adf5fa",
   "display_name": "Python 3.8.3 64-bit ('base': conda)"
  }
 },
 "nbformat": 4,
 "nbformat_minor": 2,
 "cells": [
  {
   "source": [
    "# Python in Action\n",
    "## Part 1: Python Fundamentals\n",
    "### 30 &mdash; Polymorphism in Python\n",
    "> OO concepts in Python"
   ],
   "cell_type": "markdown",
   "metadata": {}
  },
  {
   "source": [
    "#### Polymorhphism\n",
    "\n",
    "Polymorphism in Python works in the expected way:"
   ],
   "cell_type": "markdown",
   "metadata": {}
  },
  {
   "cell_type": "code",
   "execution_count": 4,
   "metadata": {},
   "outputs": [
    {
     "output_type": "stream",
     "name": "stdout",
     "text": [
      "a wheelie!\nVehicle.accelerate\n"
     ]
    }
   ],
   "source": [
    "class Vehicle:\n",
    "    def __init__(self, num_wheels):\n",
    "        self.num_wheels = num_wheels\n",
    "\n",
    "    def accelerate(self):\n",
    "        print('Vehicle.accelerate')\n",
    "\n",
    "    def brake(self):\n",
    "        print('Vehicle.brake')\n",
    "\n",
    "class Bike(Vehicle):\n",
    "    def __init__(self):\n",
    "        super().__init__(2)\n",
    "\n",
    "    def accelerate(self):\n",
    "        print('a wheelie!')\n",
    "    \n",
    "class Car(Vehicle):\n",
    "    def __init__(self):\n",
    "        super().__init__(4)\n",
    "\n",
    "    \n",
    "bike = Bike()\n",
    "bike.accelerate()\n",
    "\n",
    "car = Car()\n",
    "car.accelerate()"
   ]
  }
 ]
}