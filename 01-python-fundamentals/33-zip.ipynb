{
 "metadata": {
  "language_info": {
   "codemirror_mode": {
    "name": "ipython",
    "version": 3
   },
   "file_extension": ".py",
   "mimetype": "text/x-python",
   "name": "python",
   "nbconvert_exporter": "python",
   "pygments_lexer": "ipython3",
   "version": "3.8.3-final"
  },
  "orig_nbformat": 2,
  "kernelspec": {
   "name": "python383jvsc74a57bd0ead85409a3df2736fa4852a03cf3afe7e5b1dbdc0e40d7d22bbcbf8cf1adf5fa",
   "display_name": "Python 3.8.3 64-bit ('base': conda)"
  }
 },
 "nbformat": 4,
 "nbformat_minor": 2,
 "cells": [
  {
   "source": [
    "# Python in Action\n",
    "## Part 1: Python Fundamentals\n",
    "### 33 &mdash; *zip* operation\n",
    "> combining iterables with `zip()`"
   ],
   "cell_type": "markdown",
   "metadata": {}
  },
  {
   "source": [
    "In Python, you can use the `zip()` function to combine several iterables."
   ],
   "cell_type": "markdown",
   "metadata": {}
  },
  {
   "cell_type": "code",
   "execution_count": 2,
   "metadata": {},
   "outputs": [
    {
     "output_type": "stream",
     "name": "stdout",
     "text": [
      "[(1, 'one'), (2, 'two'), (3, 'three')]\n"
     ]
    }
   ],
   "source": [
    "x = [1, 2, 3]\n",
    "y = ['one', 'two', 'three']\n",
    "\n",
    "zipped = zip(x, y)\n",
    "print(list(zipped))\n"
   ]
  },
  {
   "source": [
    "Note how we had to use `list()` to materialize the result of the `zip()` operation.\n",
    "\n",
    "It is also important to note that `zip()` expects the two lists to be of the same size. If not, the zip operation will conclude as soon as the first list is exhausted:"
   ],
   "cell_type": "markdown",
   "metadata": {}
  },
  {
   "cell_type": "code",
   "execution_count": 3,
   "metadata": {},
   "outputs": [
    {
     "output_type": "stream",
     "name": "stdout",
     "text": [
      "[(1, 'one'), (2, 'two'), (3, 'three')]\n"
     ]
    }
   ],
   "source": [
    "x = [1, 2, 3, 4, 5]\n",
    "y = ['one', 'two', 'three']\n",
    "\n",
    "zipped = zip(x, y)\n",
    "print(list(zipped))"
   ]
  },
  {
   "source": [
    "The `zip()` operation can be used with multiple lists (not only two):"
   ],
   "cell_type": "markdown",
   "metadata": {}
  },
  {
   "cell_type": "code",
   "execution_count": 4,
   "metadata": {},
   "outputs": [
    {
     "output_type": "stream",
     "name": "stdout",
     "text": [
      "[(1, 'one', 'uno'), (2, 'two', 'dos'), (3, 'three', 'tres')]\n"
     ]
    }
   ],
   "source": [
    "x = [1, 2, 3, 4, 5]\n",
    "y = ['one', 'two', 'three']\n",
    "z = ['uno', 'dos', 'tres']\n",
    "\n",
    "zipped = zip(x, y, z)\n",
    "print(list(zipped))"
   ]
  },
  {
   "cell_type": "code",
   "execution_count": null,
   "metadata": {},
   "outputs": [],
   "source": []
  }
 ]
}