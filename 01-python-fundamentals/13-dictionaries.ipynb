{
 "metadata": {
  "language_info": {
   "codemirror_mode": {
    "name": "ipython",
    "version": 3
   },
   "file_extension": ".py",
   "mimetype": "text/x-python",
   "name": "python",
   "nbconvert_exporter": "python",
   "pygments_lexer": "ipython3",
   "version": "3.8.3-final"
  },
  "orig_nbformat": 2,
  "kernelspec": {
   "name": "python3",
   "display_name": "Python 3.8.3 64-bit ('base': conda)",
   "metadata": {
    "interpreter": {
     "hash": "ead85409a3df2736fa4852a03cf3afe7e5b1dbdc0e40d7d22bbcbf8cf1adf5fa"
    }
   }
  }
 },
 "nbformat": 4,
 "nbformat_minor": 2,
 "cells": [
  {
   "source": [
    "# Python in Action\n",
    "## Part 1: Python Fundamentals\n",
    "### 13 &mdash; Dictionaries in Python\n",
    "> key-value pairs\n",
    "\n",
    "Dictionaries are also an essential part of the Python programming language.\n",
    "\n",
    "Dictionaries allow you to create collections of key-value pairs. They are not immutable."
   ],
   "cell_type": "markdown",
   "metadata": {}
  },
  {
   "source": [
    "Dictionaries in Python are created with curly-braces, as if they were JSON objects:\n"
   ],
   "cell_type": "markdown",
   "metadata": {}
  },
  {
   "cell_type": "code",
   "execution_count": 2,
   "metadata": {},
   "outputs": [
    {
     "output_type": "stream",
     "name": "stdout",
     "text": [
      "{'name': 'Jason Isaacs', 'age': 52, 'greeting': 'Hello to Jason!'}\n"
     ]
    }
   ],
   "source": [
    "actor = { 'name': 'Jason Isaacs', 'age': 52, 'greeting': 'Hello to Jason!'}\n",
    "\n",
    "print(actor)"
   ]
  },
  {
   "source": [
    "You can access the elements of a tuple using `[<property>]`:"
   ],
   "cell_type": "markdown",
   "metadata": {}
  },
  {
   "cell_type": "code",
   "execution_count": 4,
   "metadata": {},
   "outputs": [
    {
     "output_type": "stream",
     "name": "stdout",
     "text": [
      "Jason Isaacs\n"
     ]
    }
   ],
   "source": [
    "print(actor['name'])"
   ]
  },
  {
   "cell_type": "code",
   "execution_count": null,
   "metadata": {},
   "outputs": [],
   "source": [
    "You can use the `get()` method to get the value from a dictionary. The method lets you specify a default value if the key is not found:"
   ]
  },
  {
   "cell_type": "code",
   "execution_count": 10,
   "metadata": {},
   "outputs": [
    {
     "output_type": "stream",
     "name": "stdout",
     "text": [
      "None\nN/A\n"
     ]
    }
   ],
   "source": [
    "# print(actor['nationality']) # this fails\n",
    "print(actor.get('nationality'))\n",
    "print(actor.get('nationality', 'N/A'))"
   ]
  },
  {
   "source": [
    "The `pop()` method retrieves the value of a key and removes that key from the dictionary:"
   ],
   "cell_type": "markdown",
   "metadata": {}
  },
  {
   "cell_type": "code",
   "execution_count": 11,
   "metadata": {},
   "outputs": [
    {
     "output_type": "stream",
     "name": "stdout",
     "text": [
      "Jason Isaacs\n{'age': 52, 'greeting': 'Hello to Jason!'}\n"
     ]
    }
   ],
   "source": [
    "print(actor.pop('name'))\n",
    "print(actor)"
   ]
  },
  {
   "source": [
    "The method `popitem()` retrieves and removes the last inserted key-value pair:"
   ],
   "cell_type": "markdown",
   "metadata": {}
  },
  {
   "cell_type": "code",
   "execution_count": 12,
   "metadata": {},
   "outputs": [
    {
     "output_type": "stream",
     "name": "stdout",
     "text": [
      "('greeting', 'Hello to Jason!')\n{'age': 52}\n"
     ]
    }
   ],
   "source": [
    "print(actor.popitem())\n",
    "print(actor)"
   ]
  },
  {
   "cell_type": "code",
   "execution_count": null,
   "metadata": {},
   "outputs": [],
   "source": [
    "You can check if a given key exists in the dictionary using the `in` operator:"
   ]
  },
  {
   "cell_type": "code",
   "execution_count": 13,
   "metadata": {},
   "outputs": [
    {
     "output_type": "stream",
     "name": "stdout",
     "text": [
      "True\n"
     ]
    }
   ],
   "source": [
    "print('age' in actor)"
   ]
  },
  {
   "cell_type": "code",
   "execution_count": null,
   "metadata": {},
   "outputs": [],
   "source": [
    "You can get a list of a dictionary keys using:"
   ]
  },
  {
   "cell_type": "code",
   "execution_count": 15,
   "metadata": {},
   "outputs": [
    {
     "output_type": "stream",
     "name": "stdout",
     "text": [
      "dict_keys(['name', 'greeting'])\n['name', 'greeting']\n"
     ]
    }
   ],
   "source": [
    "actor = { 'name': 'Idris Elba', 'greeting': 'hello, yall'}\n",
    "\n",
    "print(actor.keys())\n",
    "print(list(actor.keys()))"
   ]
  },
  {
   "source": [
    "In a similar manner you can get a list of the values, and even a list of key-pair entries as tuples:"
   ],
   "cell_type": "markdown",
   "metadata": {}
  },
  {
   "cell_type": "code",
   "execution_count": 19,
   "metadata": {},
   "outputs": [
    {
     "output_type": "stream",
     "name": "stdout",
     "text": [
      "['Washington D.C.', 'Paris', 'Berlin']\n[('USA', 'Washington D.C.'), ('Francia', 'Paris'), ('Germany', 'Berlin')]\n"
     ]
    }
   ],
   "source": [
    "capitals_by_country = { 'USA': 'Washington D.C.', 'France': 'Paris', 'Germany': 'Berlin' }\n",
    "\n",
    "print(list(capitals_by_country.values()))\n",
    "print(list(capitals_by_country.items()))\n"
   ]
  },
  {
   "source": [
    "You can get the number of elements of a dictionary using `len()` global function:"
   ],
   "cell_type": "markdown",
   "metadata": {}
  },
  {
   "cell_type": "code",
   "execution_count": 20,
   "metadata": {},
   "outputs": [
    {
     "output_type": "execute_result",
     "data": {
      "text/plain": [
       "3"
      ]
     },
     "metadata": {},
     "execution_count": 20
    }
   ],
   "source": [
    "len(capitals_by_country)"
   ]
  },
  {
   "source": [
    "You can remove a particular key using the `del` operator:"
   ],
   "cell_type": "markdown",
   "metadata": {}
  },
  {
   "cell_type": "code",
   "execution_count": 21,
   "metadata": {},
   "outputs": [
    {
     "output_type": "stream",
     "name": "stdout",
     "text": [
      "{'USA': 'Washington D.C.', 'Germany': 'Berlin'}\n"
     ]
    }
   ],
   "source": [
    "del capitals_by_country['Francia']\n",
    "print(capitals_by_country)"
   ]
  },
  {
   "source": [
    "To create a shallow copy of a dictionary, us the `copy` method:"
   ],
   "cell_type": "markdown",
   "metadata": {}
  },
  {
   "cell_type": "code",
   "execution_count": null,
   "metadata": {},
   "outputs": [],
   "source": [
    "You can add new elements to a dictionary using:"
   ]
  },
  {
   "cell_type": "code",
   "execution_count": 25,
   "metadata": {},
   "outputs": [
    {
     "output_type": "stream",
     "name": "stdout",
     "text": [
      "{'USA': 'Washington D.C.', 'Germany': 'Berlin', 'France': 'Paris'}\n"
     ]
    }
   ],
   "source": [
    "capitals_by_country['France'] = 'Paris'\n",
    "\n",
    "print(capitals_by_country)"
   ]
  },
  {
   "cell_type": "code",
   "execution_count": 26,
   "metadata": {},
   "outputs": [
    {
     "output_type": "stream",
     "name": "stdout",
     "text": [
      "{'USA': 'Washington D.C.', 'Germany': 'Berlin', 'France': 'Paris'}\n{'USA': 'Washington D.C.', 'Germany': 'Berlin', 'France': 'Paris', 'Spain': 'Madrid'}\n"
     ]
    }
   ],
   "source": [
    "capitals2 = capitals_by_country.copy()\n",
    "\n",
    "capitals2['Spain'] = 'Madrid'\n",
    "\n",
    "print(capitals_by_country)\n",
    "print(capitals2)"
   ]
  },
  {
   "cell_type": "code",
   "execution_count": null,
   "metadata": {},
   "outputs": [],
   "source": []
  }
 ]
}