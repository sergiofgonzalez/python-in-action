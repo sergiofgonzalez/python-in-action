{
 "metadata": {
  "language_info": {
   "codemirror_mode": {
    "name": "ipython",
    "version": 3
   },
   "file_extension": ".py",
   "mimetype": "text/x-python",
   "name": "python",
   "nbconvert_exporter": "python",
   "pygments_lexer": "ipython3",
   "version": "3.8.3-final"
  },
  "orig_nbformat": 2,
  "kernelspec": {
   "name": "python3",
   "display_name": "Python 3.8.3 64-bit ('base': conda)",
   "metadata": {
    "interpreter": {
     "hash": "ead85409a3df2736fa4852a03cf3afe7e5b1dbdc0e40d7d22bbcbf8cf1adf5fa"
    }
   }
  }
 },
 "nbformat": 4,
 "nbformat_minor": 2,
 "cells": [
  {
   "source": [
    "# Python in Action\n",
    "## Part 1: Python Fundamentals\n",
    "### 16 &mdash; Objects in Python\n",
    "> basics of Python objects\n",
    "\n",
    "Everything in Python is an object, even primitive types such as integers, strings, floats.\n",
    "\n",
    "Objects in Python have attributes and methods that can be accessed using the `.` operator.\n",
    "\n",
    "There are interesting functions and methods you can use on Python objects:\n",
    "+ the method `bit_length()` &mdash; returns the number of bits needed to represent a given number\n",
    "+ the global function `id()` &mdash; returns the memory location of a given object"
   ],
   "cell_type": "markdown",
   "metadata": {}
  },
  {
   "cell_type": "code",
   "execution_count": 6,
   "metadata": {},
   "outputs": [
    {
     "output_type": "stream",
     "name": "stdout",
     "text": [
      "3\n140502542240624\n"
     ]
    }
   ],
   "source": [
    "num = 5\n",
    "my_str = 'foobar'\n",
    "\n",
    "print(num.bit_length())\n",
    "print(id(my_str))"
   ]
  },
  {
   "source": [
    "Immutability is an essential concept in many programming languages. In an object provides methods to change the *internal state* of an object after creating it, it's considered mutable. Otherwise, it is *immutable*.\n",
    "\n",
    "Most of Python data types are immutable, event when it doesn't feel so:"
   ],
   "cell_type": "markdown",
   "metadata": {}
  },
  {
   "cell_type": "code",
   "execution_count": 7,
   "metadata": {},
   "outputs": [
    {
     "output_type": "stream",
     "name": "stdout",
     "text": [
      "original: 94759678045632\nnew     : 94759678045664\n"
     ]
    }
   ],
   "source": [
    "num = 5\n",
    "orig_mem_location = id(num)\n",
    "num += 1\n",
    "new_mem_location = id(num)\n",
    "\n",
    "print(f'original: {orig_mem_location}')\n",
    "print(f'new     : {new_mem_location}')\n"
   ]
  }
 ]
}