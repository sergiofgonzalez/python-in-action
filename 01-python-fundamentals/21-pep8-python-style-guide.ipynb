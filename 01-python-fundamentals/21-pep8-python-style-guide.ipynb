{
 "metadata": {
  "language_info": {
   "codemirror_mode": {
    "name": "ipython",
    "version": 3
   },
   "file_extension": ".py",
   "mimetype": "text/x-python",
   "name": "python",
   "nbconvert_exporter": "python",
   "pygments_lexer": "ipython3",
   "version": "3.8.3-final"
  },
  "orig_nbformat": 2,
  "kernelspec": {
   "name": "python3",
   "display_name": "Python 3.8.3 64-bit ('base': conda)",
   "metadata": {
    "interpreter": {
     "hash": "ead85409a3df2736fa4852a03cf3afe7e5b1dbdc0e40d7d22bbcbf8cf1adf5fa"
    }
   }
  }
 },
 "nbformat": 4,
 "nbformat_minor": 2,
 "cells": [
  {
   "source": [
    "# Python in Action\n",
    "## Part 1: Python Fundamentals\n",
    "### 21 &mdash; The PEP8 Python Style Guide\n",
    "> Python style guide and naming conventions\n",
    "\n"
   ],
   "cell_type": "markdown",
   "metadata": {}
  },
  {
   "cell_type": "code",
   "execution_count": null,
   "metadata": {},
   "outputs": [],
   "source": [
    "Python defines its conventions in the PEP8 style guide. PEP stands for *Python Enhancement Proposals*. You can find the whole document in https://www.python.org/dev/peps/pep-0008/."
   ]
  },
  {
   "source": [
    "A quick summary of the important topics addressed by the PEP8:\n",
    "+ Indent using spaces, not tabs\n",
    "+ Indent using 4 spaces\n",
    "+ Encode Python source code files using UTF-8\n",
    "+ Use 80 cols for your source code\n",
    "+ Write each statement on its own line\n",
    "+ Use *snake_case* for functions, variable names and file names.\n",
    "+ Use *CamelCase* for class names\n",
    "+ Use lowercase for package names, do not separate individual words with underscores\n",
    "+ Write constants in *UPPERCASE*\n",
    "+ Add spaces around operators\n",
    "+ Do not use unnecessary whitespace\n",
    "+ Add a blank line before a function\n",
    "+ Add a blank line between methods in a class\n",
    "+ Use blank lines within functions and methods to separate related blocks of code"
   ],
   "cell_type": "markdown",
   "metadata": {}
  }
 ]
}