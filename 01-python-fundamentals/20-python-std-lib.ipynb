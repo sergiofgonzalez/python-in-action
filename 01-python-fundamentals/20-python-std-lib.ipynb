{
 "metadata": {
  "language_info": {
   "codemirror_mode": {
    "name": "ipython",
    "version": 3
   },
   "file_extension": ".py",
   "mimetype": "text/x-python",
   "name": "python",
   "nbconvert_exporter": "python",
   "pygments_lexer": "ipython3",
   "version": "3.8.3-final"
  },
  "orig_nbformat": 2,
  "kernelspec": {
   "name": "python3",
   "display_name": "Python 3.8.3 64-bit ('base': conda)",
   "metadata": {
    "interpreter": {
     "hash": "ead85409a3df2736fa4852a03cf3afe7e5b1dbdc0e40d7d22bbcbf8cf1adf5fa"
    }
   }
  }
 },
 "nbformat": 4,
 "nbformat_minor": 2,
 "cells": [
  {
   "source": [
    "# Python in Action\n",
    "## Part 1: Python Fundamentals\n",
    "### 20 &mdash; The Python Standard Library\n",
    "> functionality in Python Standard Library\n",
    "\n"
   ],
   "cell_type": "markdown",
   "metadata": {}
  },
  {
   "source": [
    "Python provides a large collection of utilities through its *standard library* (https://docs.python.org/3/library/index.html):\n",
    "\n",
    "+ `math` &mdash; Math utils\n",
    "+ `re` &mdash; Regular expressions\n",
    "+ `json` &mdash; JSON utils\n",
    "+ `datetime` &mdash; to work with dates\n",
    "+ `sqlite3` &mdash; SQLite utils\n",
    "+ `os` &mdash; Operating System utils\n",
    "+ `random` &mdash; random number generation\n",
    "+ `statistics` &mdash; statistics utils\n",
    "+ `requests` &mdash; HTTP request utils\n",
    "+ `http` &mdash; HTTP server utils\n",
    "+ `urllib` &mdash; URL management utils"
   ],
   "cell_type": "markdown",
   "metadata": {}
  },
  {
   "source": [
    "Modules from the Python standard library are consumed just like custom modules:"
   ],
   "cell_type": "markdown",
   "metadata": {}
  },
  {
   "cell_type": "code",
   "execution_count": 1,
   "metadata": {},
   "outputs": [
    {
     "output_type": "stream",
     "name": "stdout",
     "text": [
      "2.0\n"
     ]
    }
   ],
   "source": [
    "import math\n",
    "\n",
    "print(math.sqrt(4))"
   ]
  },
  {
   "cell_type": "code",
   "execution_count": 2,
   "metadata": {},
   "outputs": [
    {
     "output_type": "stream",
     "name": "stdout",
     "text": [
      "2.23606797749979\n"
     ]
    }
   ],
   "source": [
    "from math import sqrt\n",
    "\n",
    "print(sqrt(5))"
   ]
  },
  {
   "cell_type": "code",
   "execution_count": null,
   "metadata": {},
   "outputs": [],
   "source": []
  }
 ]
}