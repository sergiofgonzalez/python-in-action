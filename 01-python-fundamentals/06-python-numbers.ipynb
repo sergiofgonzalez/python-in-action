{
 "metadata": {
  "language_info": {
   "codemirror_mode": {
    "name": "ipython",
    "version": 3
   },
   "file_extension": ".py",
   "mimetype": "text/x-python",
   "name": "python",
   "nbconvert_exporter": "python",
   "pygments_lexer": "ipython3",
   "version": "3.8.3-final"
  },
  "orig_nbformat": 2,
  "kernelspec": {
   "name": "python3",
   "display_name": "Python 3.8.3 64-bit ('base': conda)",
   "metadata": {
    "interpreter": {
     "hash": "ead85409a3df2736fa4852a03cf3afe7e5b1dbdc0e40d7d22bbcbf8cf1adf5fa"
    }
   }
  }
 },
 "nbformat": 4,
 "nbformat_minor": 2,
 "cells": [
  {
   "source": [
    "# Python in Action\n",
    "## Part 1: Python Fundamentals\n",
    "### 06 &mdash; Numbers in Python\n",
    "> Numbers basics\n",
    "\n",
    "Numbers in Python can be of 3 types: `int`, `float` and `complex`."
   ],
   "cell_type": "markdown",
   "metadata": {}
  },
  {
   "source": [
    "#### Integer numbers\n",
    "\n",
    "You can define integer values using a literal or through the `int()` constructor.\n",
    "\n",
    "As previously mentioned, you can check the variable type using `type()` and checking against `int` or using `isinstance(var, int)`."
   ],
   "cell_type": "markdown",
   "metadata": {}
  },
  {
   "cell_type": "code",
   "execution_count": 1,
   "metadata": {},
   "outputs": [
    {
     "output_type": "stream",
     "name": "stdout",
     "text": [
      "True\n5\n"
     ]
    }
   ],
   "source": [
    "num = 5\n",
    "num_int = int(5.5)\n",
    "\n",
    "print(isinstance(num, int))\n",
    "print(num_int)"
   ]
  },
  {
   "source": [
    "#### Floating point numbers\n",
    "\n",
    "Similarly with *floating-point* numbers and `float()` and `float`."
   ],
   "cell_type": "markdown",
   "metadata": {}
  },
  {
   "cell_type": "code",
   "execution_count": 4,
   "metadata": {},
   "outputs": [
    {
     "output_type": "stream",
     "name": "stdout",
     "text": [
      "True\nFalse\n"
     ]
    }
   ],
   "source": [
    "num = 5.5\n",
    "num_float = float(5)\n",
    "\n",
    "print(isinstance(num_float, float))\n",
    "print(type(num_float) == float)"
   ]
  },
  {
   "cell_type": "code",
   "execution_count": null,
   "metadata": {},
   "outputs": [],
   "source": [
    "#### Complex numbers in Python\n",
    "\n",
    "Python supports complex numbers out of the box."
   ]
  },
  {
   "cell_type": "code",
   "execution_count": 7,
   "metadata": {},
   "outputs": [
    {
     "output_type": "stream",
     "name": "stdout",
     "text": [
      "2.0\n3.0\nTrue\nTrue\n"
     ]
    }
   ],
   "source": [
    "complex_number = 2 + 3j\n",
    "another_complex_number = complex(2, 3)\n",
    "\n",
    "print(complex_number.real)\n",
    "print(complex_number.imag)\n",
    "\n",
    "print(type(another_complex_number) == complex)\n",
    "print(isinstance(complex_number, complex))\n"
   ]
  },
  {
   "source": [
    "#### Built-in functions\n",
    "\n",
    "The built-in functions `abs()` and `round()` are useful with numbers:\n"
   ],
   "cell_type": "markdown",
   "metadata": {}
  },
  {
   "cell_type": "code",
   "execution_count": 10,
   "metadata": {},
   "outputs": [
    {
     "output_type": "stream",
     "name": "stdout",
     "text": [
      "5.5\n6\n"
     ]
    }
   ],
   "source": [
    "print(abs(-5.5))\n",
    "print(round(5.5))"
   ]
  },
  {
   "source": [
    "You can find additional functions for numbers in:\n",
    "+ the `math` and `cmath` (for complex numbers) packages\n",
    "+ the `decimal` packages for decimal numbers\n",
    "+ the `fractions` package for rational numbers"
   ],
   "cell_type": "markdown",
   "metadata": {}
  }
 ]
}