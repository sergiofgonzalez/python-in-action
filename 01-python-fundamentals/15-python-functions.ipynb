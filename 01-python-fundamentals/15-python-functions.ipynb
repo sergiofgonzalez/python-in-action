{
 "metadata": {
  "language_info": {
   "codemirror_mode": {
    "name": "ipython",
    "version": 3
   },
   "file_extension": ".py",
   "mimetype": "text/x-python",
   "name": "python",
   "nbconvert_exporter": "python",
   "pygments_lexer": "ipython3",
   "version": "3.8.3-final"
  },
  "orig_nbformat": 2,
  "kernelspec": {
   "name": "python383jvsc74a57bd0ead85409a3df2736fa4852a03cf3afe7e5b1dbdc0e40d7d22bbcbf8cf1adf5fa",
   "display_name": "Python 3.8.3 64-bit ('base': conda)"
  }
 },
 "nbformat": 4,
 "nbformat_minor": 2,
 "cells": [
  {
   "source": [
    "# Python in Action\n",
    "## Part 1: Python Fundamentals\n",
    "### 15 &mdash; Functions in Python\n",
    "> basics of named and lambda functions in Python"
   ],
   "cell_type": "markdown",
   "metadata": {}
  },
  {
   "source": [
    "#### Basics of Python functions\n",
    "\n",
    "Functions in Python are defined by preceding them with the `def` keyword. A function is called by using its name followed by parentheses:"
   ],
   "cell_type": "markdown",
   "metadata": {}
  },
  {
   "cell_type": "code",
   "execution_count": 1,
   "metadata": {},
   "outputs": [
    {
     "output_type": "stream",
     "name": "stdout",
     "text": [
      "Hello!\n"
     ]
    }
   ],
   "source": [
    "def hello_world():\n",
    "    print('Hello!')\n",
    "\n",
    "hello_world()"
   ]
  },
  {
   "cell_type": "code",
   "execution_count": null,
   "metadata": {},
   "outputs": [],
   "source": [
    "Python functions accept positional parameters:"
   ]
  },
  {
   "cell_type": "code",
   "execution_count": 3,
   "metadata": {},
   "outputs": [
    {
     "output_type": "stream",
     "name": "stdout",
     "text": [
      "Hello, Jason Isaacs!\n"
     ]
    }
   ],
   "source": [
    "def greet_me(your_name):\n",
    "    print('Hello, ' + your_name + '!')\n",
    "\n",
    "greet_me('Jason Isaacs')"
   ]
  },
  {
   "source": [
    "A function argument can have a default value, that's taken when no value is given when invoking the function:"
   ],
   "cell_type": "markdown",
   "metadata": {}
  },
  {
   "cell_type": "code",
   "execution_count": 5,
   "metadata": {},
   "outputs": [
    {
     "output_type": "stream",
     "name": "stdout",
     "text": [
      "Hello, world!!!\nHello, Jason!!!\n"
     ]
    }
   ],
   "source": [
    "def hello_world(name='world'):\n",
    "    print('Hello, ' + name + '!!!')\n",
    "\n",
    "hello_world()\n",
    "hello_world('Jason')"
   ]
  },
  {
   "source": [
    "Parameters in Python are always passed by reference, and all types in Pythons are objects.\n",
    "\n",
    "However, as some of Python objects are immutable, it might happen that when an object is changed within a function body, it might seem that you have received the parameter by value:"
   ],
   "cell_type": "markdown",
   "metadata": {}
  },
  {
   "cell_type": "code",
   "execution_count": 8,
   "metadata": {},
   "outputs": [
    {
     "output_type": "stream",
     "name": "stdout",
     "text": [
      "within change_int() function: 10\n5\n"
     ]
    }
   ],
   "source": [
    "def change_int(int_val):\n",
    "    int_val *= 2\n",
    "    print(f'within change_int() function: {int_val}')\n",
    "\n",
    "num = 5\n",
    "change_int(num)\n",
    "print(num)"
   ]
  },
  {
   "source": [
    "| NOTE: |\n",
    "| :---- |\n",
    "| The previous example makes use of *f-string formatting*, a kind of template string that was introduced in Python 3.6. |"
   ],
   "cell_type": "markdown",
   "metadata": {}
  },
  {
   "source": [
    "You can return a value in Python using `return`:"
   ],
   "cell_type": "markdown",
   "metadata": {}
  },
  {
   "cell_type": "code",
   "execution_count": 11,
   "metadata": {},
   "outputs": [
    {
     "output_type": "stream",
     "name": "stdout",
     "text": [
      "Hello to Jason Isaacs!\n"
     ]
    }
   ],
   "source": [
    "def get_greeting(name):\n",
    "    return f'Hello to {name}!'\n",
    "\n",
    "my_greeting = get_greeting('Jason Isaacs')\n",
    "print(my_greeting)"
   ]
  },
  {
   "source": [
    "Python allows you to return multiple values using the following syntax:"
   ],
   "cell_type": "markdown",
   "metadata": {}
  },
  {
   "cell_type": "code",
   "execution_count": 12,
   "metadata": {},
   "outputs": [
    {
     "output_type": "stream",
     "name": "stdout",
     "text": [
      "('Jason Isaacs', 'bar', 55)\n"
     ]
    }
   ],
   "source": [
    "def foo(name):\n",
    "    return name, 'bar', 55\n",
    "\n",
    "result = foo('Jason Isaacs')\n",
    "print(result)"
   ]
  },
  {
   "source": [
    "As you can see, the result will automatically *coalesced* into a tuple."
   ],
   "cell_type": "markdown",
   "metadata": {}
  },
  {
   "source": [
    "#### Lambda functions in Python\n",
    "\n",
    "Lambda functions in Python have an special syntax:\n",
    "\n",
    "```python\n",
    "lambda <arg1>[, <arg2>[..., <argN>]] : <expression>\n",
    "```"
   ],
   "cell_type": "markdown",
   "metadata": {}
  },
  {
   "cell_type": "code",
   "execution_count": 2,
   "metadata": {},
   "outputs": [
    {
     "output_type": "stream",
     "name": "stdout",
     "text": [
      "10\n12\n"
     ]
    }
   ],
   "source": [
    "mult_by_2 = lambda num : num * 2\n",
    "\n",
    "print(mult_by_2(5))\n",
    "\n",
    "mult_a_by_b = lambda a, b : a * b\n",
    "print(mult_a_by_b(3, 4))"
   ]
  },
  {
   "source": [
    "#### Recursion\n",
    "\n",
    "Recursion in Python works pretty much in the same way as in any other programming language"
   ],
   "cell_type": "markdown",
   "metadata": {}
  },
  {
   "cell_type": "code",
   "execution_count": 2,
   "metadata": {},
   "outputs": [
    {
     "output_type": "execute_result",
     "data": {
      "text/plain": [
       "120"
      ]
     },
     "metadata": {},
     "execution_count": 2
    }
   ],
   "source": [
    "def factorial(n):\n",
    "    if n == 1:\n",
    "        return 1\n",
    "    return n * factorial(n - 1)\n",
    "\n",
    "factorial(5)"
   ]
  },
  {
   "source": [
    "#### Nested functions\n",
    "\n",
    "Python supports nested functions (that is, defining functions within functions)."
   ],
   "cell_type": "markdown",
   "metadata": {}
  },
  {
   "source": [
    "You will always be able to read a variable defined in the enclosing function, but if you want to modify it, you will need to use the keyword `nonlocal`."
   ],
   "cell_type": "markdown",
   "metadata": {}
  },
  {
   "cell_type": "code",
   "execution_count": 7,
   "metadata": {},
   "outputs": [
    {
     "output_type": "stream",
     "name": "stdout",
     "text": [
      "1\n1\n"
     ]
    }
   ],
   "source": [
    "def count():\n",
    "    count = 0\n",
    "\n",
    "    def increment():\n",
    "        nonlocal count\n",
    "        count = count + 1\n",
    "        print(count)\n",
    "    \n",
    "    increment()\n",
    "\n",
    "count()\n",
    "count()"
   ]
  },
  {
   "cell_type": "code",
   "execution_count": 8,
   "metadata": {},
   "outputs": [
    {
     "output_type": "stream",
     "name": "stdout",
     "text": [
      "Hello\nto\nJason\nIsaacs\n"
     ]
    }
   ],
   "source": [
    "def talk(phrase):\n",
    "    def say(word):\n",
    "        print(word)\n",
    "\n",
    "    words = phrase.split(' ')\n",
    "    for word in words:\n",
    "        say(word)\n",
    "\n",
    "talk('Hello to Jason Isaacs')"
   ]
  },
  {
   "source": [
    "#### Closures in Python\n",
    "\n",
    "Python supports closures as well. That is, a function has access to the variables in its scope even when the function is not active anymore."
   ],
   "cell_type": "markdown",
   "metadata": {}
  },
  {
   "cell_type": "code",
   "execution_count": 9,
   "metadata": {},
   "outputs": [
    {
     "output_type": "stream",
     "name": "stdout",
     "text": [
      "1\n2\n"
     ]
    }
   ],
   "source": [
    "def counter():\n",
    "    count = 0\n",
    "\n",
    "    # increment closes over count\n",
    "    def increment():\n",
    "        nonlocal count\n",
    "        count = count + 1\n",
    "        return count\n",
    "    \n",
    "    return increment\n",
    "\n",
    "increment = counter()\n",
    "print(increment())\n",
    "print(increment())    "
   ]
  },
  {
   "cell_type": "code",
   "execution_count": null,
   "metadata": {},
   "outputs": [],
   "source": []
  }
 ]
}