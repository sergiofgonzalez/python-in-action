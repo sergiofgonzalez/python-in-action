{
 "metadata": {
  "language_info": {
   "codemirror_mode": {
    "name": "ipython",
    "version": 3
   },
   "file_extension": ".py",
   "mimetype": "text/x-python",
   "name": "python",
   "nbconvert_exporter": "python",
   "pygments_lexer": "ipython3",
   "version": "3.8.3-final"
  },
  "orig_nbformat": 2,
  "kernelspec": {
   "name": "python3",
   "display_name": "Python 3.8.3 64-bit ('base': conda)",
   "metadata": {
    "interpreter": {
     "hash": "ead85409a3df2736fa4852a03cf3afe7e5b1dbdc0e40d7d22bbcbf8cf1adf5fa"
    }
   }
  }
 },
 "nbformat": 4,
 "nbformat_minor": 2,
 "cells": [
  {
   "source": [
    "# Python in Action\n",
    "## Part 1: Python Fundamentals\n",
    "### 03 &mdash; Operators in Python\n",
    "> operators basics"
   ],
   "cell_type": "markdown",
   "metadata": {}
  },
  {
   "source": [
    "#### Assignment operators\n",
    "\n",
    "The assignment operator is used to assign a value to a variable, or to assign a variable value to another variable."
   ],
   "cell_type": "markdown",
   "metadata": {}
  },
  {
   "cell_type": "code",
   "execution_count": null,
   "metadata": {},
   "outputs": [],
   "source": [
    "greeting = \"Hello to Jason Isaacs!\"\n",
    "\n",
    "another_greeting = greeting"
   ]
  },
  {
   "source": [
    "#### Arithmetic operator\n",
    "\n",
    "You will find the expected arithmetic operators that are also found in other programming languages, along with `**` for exponentiation and `//` for floor division:"
   ],
   "cell_type": "markdown",
   "metadata": {}
  },
  {
   "cell_type": "code",
   "execution_count": 1,
   "metadata": {},
   "outputs": [
    {
     "output_type": "stream",
     "name": "stdout",
     "text": [
      "16\n2.25\n2.0\n"
     ]
    }
   ],
   "source": [
    "result = 2 ** 4\n",
    "print(result)\n",
    "\n",
    "result = 4.5 / 2\n",
    "print(result)\n",
    "\n",
    "result = 4.5 // 2\n",
    "print(result)"
   ]
  },
  {
   "source": [
    "You can also use `+` to concatenate strings:"
   ],
   "cell_type": "markdown",
   "metadata": {}
  },
  {
   "cell_type": "code",
   "execution_count": 4,
   "metadata": {},
   "outputs": [
    {
     "output_type": "stream",
     "name": "stdout",
     "text": [
      "Hello to Jason Isaacs\n"
     ]
    }
   ],
   "source": [
    "str1 = \"Hello to \"\n",
    "str2 = \"Jason Isaacs\"\n",
    "\n",
    "greeting = str1 + str2\n",
    "print(greeting)"
   ]
  },
  {
   "source": [
    "You can combine assignment and arithmetic operators: `+=`, `-=`, `*=`, etc."
   ],
   "cell_type": "markdown",
   "metadata": {}
  },
  {
   "cell_type": "code",
   "execution_count": 5,
   "metadata": {},
   "outputs": [
    {
     "output_type": "stream",
     "name": "stdout",
     "text": [
      "6.727500000000001\n"
     ]
    }
   ],
   "source": [
    "price = 2.99\n",
    "price *= 2.25\n",
    "\n",
    "print(price)"
   ]
  },
  {
   "source": [
    "#### Comparison operators\n",
    "\n",
    "You will find the expected set of comparison operators in Python: `==`, `!=`, `>`, `>=`... that render a boolean value (`True` or `False`)"
   ],
   "cell_type": "markdown",
   "metadata": {}
  },
  {
   "cell_type": "code",
   "execution_count": 6,
   "metadata": {},
   "outputs": [
    {
     "output_type": "execute_result",
     "data": {
      "text/plain": [
       "False"
      ]
     },
     "metadata": {},
     "execution_count": 6
    }
   ],
   "source": [
    "1 > 2"
   ]
  },
  {
   "source": [
    "#### Boolean operators in Python\n",
    "\n",
    "Python provides `not`, `and` and `or` operators.\n",
    "\n",
    "When applied to boolean attributes they work like logical *AND*, *OR* and *NOT*:"
   ],
   "cell_type": "markdown",
   "metadata": {}
  },
  {
   "cell_type": "code",
   "execution_count": 7,
   "metadata": {},
   "outputs": [
    {
     "output_type": "stream",
     "name": "stdout",
     "text": [
      "True\nFalse\nTrue\n"
     ]
    }
   ],
   "source": [
    "condition1 = 1 > 2  # False\n",
    "condition2 = 2 > 1  # True\n",
    "\n",
    "print(not condition1)\n",
    "print(condition1 and condition2)\n",
    "print(condition1 or condition2)\n"
   ]
  },
  {
   "source": [
    "`or` can be used in an expression to return the value of the first operand if it is not a falsy value, otherwise it returns the second operand (i.e. x or y is the same as doing if x is false, then y, else x)"
   ],
   "cell_type": "markdown",
   "metadata": {}
  },
  {
   "cell_type": "code",
   "execution_count": 9,
   "metadata": {},
   "outputs": [
    {
     "output_type": "stream",
     "name": "stdout",
     "text": [
      "1\n1\n"
     ]
    }
   ],
   "source": [
    "zero = 0\n",
    "print(zero or 1)\n",
    "\n",
    "print(1 or zero)"
   ]
  },
  {
   "source": [
    "`and` in an expression only evaluates the second argument if the first one is true (thus, x and y is the same as doing if x is false, then x, else y)"
   ],
   "cell_type": "markdown",
   "metadata": {}
  },
  {
   "cell_type": "code",
   "execution_count": 11,
   "metadata": {},
   "outputs": [
    {
     "output_type": "stream",
     "name": "stdout",
     "text": [
      "0\n0\n2\n"
     ]
    }
   ],
   "source": [
    "print(0 and 1) # 0\n",
    "print(1 and 0) # 0\n",
    "print(1 and 2) # 2"
   ]
  },
  {
   "source": [
    "#### Bitwise operators in Python\n",
    "\n",
    "You find the expected `&` for binary AND, `|` for binary OR, `^` for XOR, `~` for binary NOT, `<<` for shift left and `>>` for shift right."
   ],
   "cell_type": "markdown",
   "metadata": {}
  },
  {
   "source": [
    "#### `is` and `in` operators\n",
    "\n",
    "`is`, the identity operator, returns true if two objects are the same object.\n",
    "\n",
    "`in`, the membership operator`, returns true if a value is contained in a sequence (list or other)."
   ],
   "cell_type": "markdown",
   "metadata": {}
  },
  {
   "source": [
    "#### The ternary operator\n",
    "\n",
    "The ternary operator in Python is a bit more verbose than what you'll find in other languages:\n",
    "\n",
    "```python\n",
    "<result_if_true> if <condition> else <result_if_false>\n",
    "```"
   ],
   "cell_type": "markdown",
   "metadata": {}
  },
  {
   "cell_type": "code",
   "execution_count": 12,
   "metadata": {},
   "outputs": [
    {
     "output_type": "execute_result",
     "data": {
      "text/plain": [
       "True"
      ]
     },
     "metadata": {},
     "execution_count": 12
    }
   ],
   "source": [
    "def is_adult(age):\n",
    "    return True if age > 18 else False\n",
    "\n",
    "is_adult(21)"
   ]
  }
 ]
}