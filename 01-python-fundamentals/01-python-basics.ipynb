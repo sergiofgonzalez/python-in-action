{
 "metadata": {
  "language_info": {
   "codemirror_mode": {
    "name": "ipython",
    "version": 3
   },
   "file_extension": ".py",
   "mimetype": "text/x-python",
   "name": "python",
   "nbconvert_exporter": "python",
   "pygments_lexer": "ipython3",
   "version": "3.8.3-final"
  },
  "orig_nbformat": 2,
  "kernelspec": {
   "name": "python383jvsc74a57bd0ead85409a3df2736fa4852a03cf3afe7e5b1dbdc0e40d7d22bbcbf8cf1adf5fa",
   "display_name": "Python 3.8.3 64-bit ('base': conda)"
  }
 },
 "nbformat": 4,
 "nbformat_minor": 2,
 "cells": [
  {
   "source": [
    "# Python in Action\n",
    "## Part 1: Python Fundamentals\n",
    "### 01 &mdash; Python Basics\n",
    "> hello world, Python!"
   ],
   "cell_type": "markdown",
   "metadata": {}
  },
  {
   "source": [
    "#### Variables in Python\n",
    "\n",
    "Variables in Python are created when when assigning a value to them.\n",
    "\n",
    "Python uses `snake_case` as the most common naming convention:"
   ],
   "cell_type": "markdown",
   "metadata": {}
  },
  {
   "cell_type": "code",
   "execution_count": 1,
   "metadata": {},
   "outputs": [],
   "source": [
    "# defining 'name' as a string variable\n",
    "name = \"Jason Isaacs\"\n",
    "\n",
    "# defining 'age' as a number\n",
    "age = 48\n",
    "\n",
    "# defining a long var name using snake case\n",
    "greeting_message = \"Hello to Jason Isaacs!\""
   ]
  },
  {
   "source": [
    "#### Expressions and statements in Python\n",
    "\n",
    "A expression is any pieve of code that returns a value"
   ],
   "cell_type": "markdown",
   "metadata": {}
  },
  {
   "cell_type": "code",
   "execution_count": 2,
   "metadata": {},
   "outputs": [
    {
     "output_type": "execute_result",
     "data": {
      "text/plain": [
       "2"
      ]
     },
     "metadata": {},
     "execution_count": 2
    }
   ],
   "source": [
    "# this is an expression\n",
    "1 + 1"
   ]
  },
  {
   "cell_type": "code",
   "execution_count": 3,
   "metadata": {},
   "outputs": [
    {
     "output_type": "execute_result",
     "data": {
      "text/plain": [
       "'Jason Isaacs'"
      ]
     },
     "metadata": {},
     "execution_count": 3
    }
   ],
   "source": [
    "# this is another expression\n",
    "\"Jason Isaacs\""
   ]
  },
  {
   "source": [
    "A statement is an operation on a value. A program is formed by a series of statements."
   ],
   "cell_type": "markdown",
   "metadata": {}
  },
  {
   "cell_type": "code",
   "execution_count": 4,
   "metadata": {},
   "outputs": [
    {
     "output_type": "stream",
     "name": "stdout",
     "text": [
      "Jason Isaacs\n"
     ]
    }
   ],
   "source": [
    "# This is a program\n",
    "name = \"Jason Isaacs\"\n",
    "print(name)"
   ]
  },
  {
   "source": [
    "In general, each statement on a Python program must be put on its own line. You can use a semicolon to override this default:"
   ],
   "cell_type": "markdown",
   "metadata": {}
  },
  {
   "cell_type": "code",
   "execution_count": 5,
   "metadata": {},
   "outputs": [
    {
     "output_type": "stream",
     "name": "stdout",
     "text": [
      "Jason Isaacs\n"
     ]
    }
   ],
   "source": [
    "name = \"Jason Isaacs\"; print(name)"
   ]
  },
  {
   "source": [
    "#### Comments\n",
    "\n",
    "In Python, everything after a hash mark is ignored and considered a comment:"
   ],
   "cell_type": "markdown",
   "metadata": {}
  },
  {
   "cell_type": "code",
   "execution_count": null,
   "metadata": {},
   "outputs": [],
   "source": [
    "#this is a line comment\n",
    "# also this\n",
    "\n",
    "name = \"Jason Isaacs\" # Hello to Jason"
   ]
  },
  {
   "source": [
    "#### Indentation in Python\n",
    "\n",
    "Indentation in Python in important, as it is used to group blocks of code.\n",
    "\n",
    "As a consequence the following program will fail:"
   ],
   "cell_type": "markdown",
   "metadata": {}
  },
  {
   "cell_type": "code",
   "execution_count": 6,
   "metadata": {},
   "outputs": [
    {
     "output_type": "error",
     "ename": "IndentationError",
     "evalue": "unexpected indent (<ipython-input-6-071f0d7a724c>, line 2)",
     "traceback": [
      "\u001b[0;36m  File \u001b[0;32m\"<ipython-input-6-071f0d7a724c>\"\u001b[0;36m, line \u001b[0;32m2\u001b[0m\n\u001b[0;31m    print(name)\u001b[0m\n\u001b[0m    ^\u001b[0m\n\u001b[0;31mIndentationError\u001b[0m\u001b[0;31m:\u001b[0m unexpected indent\n"
     ]
    }
   ],
   "source": [
    "name = \"Jason Isaacs\"\n",
    "    print(name)"
   ]
  },
  {
   "source": [
    "#### Hello, world!\n",
    "\n",
    "So we've already seen how to define variables, how to use `print(...)` to send messages to the standard output, so we're now ready to write our Hello, world!"
   ],
   "cell_type": "markdown",
   "metadata": {}
  },
  {
   "cell_type": "code",
   "execution_count": 1,
   "metadata": {},
   "outputs": [
    {
     "output_type": "stream",
     "name": "stdout",
     "text": [
      "Hello, world!\n"
     ]
    }
   ],
   "source": [
    "msg = 'Hello, world!'\n",
    "\n",
    "print(msg)"
   ]
  },
  {
   "cell_type": "code",
   "execution_count": null,
   "metadata": {},
   "outputs": [],
   "source": []
  }
 ]
}