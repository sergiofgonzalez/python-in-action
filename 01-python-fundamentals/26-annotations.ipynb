{
 "metadata": {
  "language_info": {
   "codemirror_mode": {
    "name": "ipython",
    "version": 3
   },
   "file_extension": ".py",
   "mimetype": "text/x-python",
   "name": "python",
   "nbconvert_exporter": "python",
   "pygments_lexer": "ipython3",
   "version": "3.8.3-final"
  },
  "orig_nbformat": 2,
  "kernelspec": {
   "name": "python383jvsc74a57bd0ead85409a3df2736fa4852a03cf3afe7e5b1dbdc0e40d7d22bbcbf8cf1adf5fa",
   "display_name": "Python 3.8.3 64-bit ('base': conda)"
  }
 },
 "nbformat": 4,
 "nbformat_minor": 2,
 "cells": [
  {
   "source": [
    "# Python in Action\n",
    "## Part 1: Python Fundamentals\n",
    "### 26 &mdash; Annotations in Python\n",
    "> adding type information to your code"
   ],
   "cell_type": "markdown",
   "metadata": {}
  },
  {
   "source": [
    "Python is dynamically type &mdash; you do not need to specify the types of variables, function parameters, or the values returned from functions.\n",
    "\n",
    "However, Python allows you to do that for documentation purposes:"
   ],
   "cell_type": "markdown",
   "metadata": {}
  },
  {
   "cell_type": "code",
   "execution_count": 1,
   "metadata": {},
   "outputs": [
    {
     "output_type": "stream",
     "name": "stdout",
     "text": [
      "1\n"
     ]
    }
   ],
   "source": [
    "def increment(n: int) -> int:\n",
    "    return n + 1\n",
    "\n",
    "count: int = increment(0)\n",
    "print(count)    "
   ]
  },
  {
   "source": [
    "IDEs might be configured to run checks for type errors when you use annotations."
   ],
   "cell_type": "markdown",
   "metadata": {}
  }
 ]
}