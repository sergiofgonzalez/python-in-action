{
 "metadata": {
  "language_info": {
   "codemirror_mode": {
    "name": "ipython",
    "version": 3
   },
   "file_extension": ".py",
   "mimetype": "text/x-python",
   "name": "python",
   "nbconvert_exporter": "python",
   "pygments_lexer": "ipython3",
   "version": "3.8.3-final"
  },
  "orig_nbformat": 2,
  "kernelspec": {
   "name": "python383jvsc74a57bd0ead85409a3df2736fa4852a03cf3afe7e5b1dbdc0e40d7d22bbcbf8cf1adf5fa",
   "display_name": "Python 3.8.3 64-bit ('base': conda)"
  }
 },
 "nbformat": 4,
 "nbformat_minor": 2,
 "cells": [
  {
   "source": [
    "# Python in Action\n",
    "## Part 1: Python Fundamentals\n",
    "### 14 &mdash; Sets in Python\n",
    "> unordered collections\n",
    "\n",
    "Sets are also an essential part of the Python programming language.\n",
    "\n",
    "Sets allow you to create a collection of distinct items, on which order is not important."
   ],
   "cell_type": "markdown",
   "metadata": {}
  },
  {
   "cell_type": "code",
   "execution_count": 1,
   "metadata": {},
   "outputs": [
    {
     "output_type": "stream",
     "name": "stdout",
     "text": [
      "[8, 1, 1, 3, 10, 7, 0, 4, 6, 4]\n{0, 1, 3, 4, 6, 7, 8, 10}\n"
     ]
    }
   ],
   "source": [
    "import random\n",
    "\n",
    "def generator_random_ints(min, max, num_samples):\n",
    "    x = 0\n",
    "    while x < num_samples:\n",
    "        yield random.randint(min, max)\n",
    "        x += 1\n",
    "\n",
    "nums = [ x for x in generator_random_ints(0, 10, 10)]\n",
    "print(nums)\n",
    "print(set(nums))"
   ]
  },
  {
   "source": [
    "Sets support intersection and union (just like Mathematical sets):"
   ],
   "cell_type": "markdown",
   "metadata": {}
  },
  {
   "cell_type": "code",
   "execution_count": 5,
   "metadata": {},
   "outputs": [
    {
     "output_type": "stream",
     "name": "stdout",
     "text": [
      "{'Jason'}\n{'Florence', 'Idris', 'Emma', 'Jason', 'Kenneth'}\n"
     ]
    }
   ],
   "source": [
    "set1 = { 'Idris', 'Jason', 'Kenneth' }\n",
    "set2 = { 'Jason' }\n",
    "\n",
    "intersection = set1 & set2\n",
    "print(intersection)\n",
    "\n",
    "set3 = { 'Emma', 'Florence' }\n",
    "union = set1 | set3\n",
    "print(union)"
   ]
  },
  {
   "source": [
    "You can compute the difference of two sets using `-`:"
   ],
   "cell_type": "markdown",
   "metadata": {}
  },
  {
   "cell_type": "code",
   "execution_count": 6,
   "metadata": {},
   "outputs": [
    {
     "output_type": "stream",
     "name": "stdout",
     "text": [
      "{'Idris', 'Kenneth'}\n"
     ]
    }
   ],
   "source": [
    "set1 = { 'Idris', 'Jason', 'Kenneth' }\n",
    "set2 = { 'Jason' }\n",
    "\n",
    "difference = set1 - set2\n",
    "print(difference)"
   ]
  },
  {
   "source": [
    "You can check if a certain set is a superset of another using `>`:"
   ],
   "cell_type": "markdown",
   "metadata": {}
  },
  {
   "cell_type": "code",
   "execution_count": 7,
   "metadata": {},
   "outputs": [
    {
     "output_type": "stream",
     "name": "stdout",
     "text": [
      "True\n"
     ]
    }
   ],
   "source": [
    "set1 = { 'Idris', 'Jason', 'Kenneth' }\n",
    "set2 = { 'Jason' }\n",
    "\n",
    "print(set1 > set2)"
   ]
  },
  {
   "source": [
    "You can use the global function `len()` to obtain the count of items in a set:"
   ],
   "cell_type": "markdown",
   "metadata": {}
  },
  {
   "cell_type": "code",
   "execution_count": 13,
   "metadata": {},
   "outputs": [
    {
     "output_type": "execute_result",
     "data": {
      "text/plain": [
       "3"
      ]
     },
     "metadata": {},
     "execution_count": 13
    }
   ],
   "source": [
    "my_set = { 'foo', 'bar', 'foobar'}\n",
    "\n",
    "len(my_set)"
   ]
  },
  {
   "source": [
    "You can transform a Set into a List using `list(set)`. This is useful to transform a list that you have previously transformed into a set to remove duplicates:"
   ],
   "cell_type": "markdown",
   "metadata": {}
  },
  {
   "cell_type": "code",
   "execution_count": 1,
   "metadata": {},
   "outputs": [
    {
     "output_type": "stream",
     "name": "stdout",
     "text": [
      "['foobar', 'bar', 'foo']\n"
     ]
    }
   ],
   "source": [
    "my_list = [ 'foo', 'bar', 'foobar', 'bar']\n",
    "my_set = set(my_list)\n",
    "my_list = list(my_set)\n",
    "print(my_list)"
   ]
  },
  {
   "source": [
    "You can check if an item is contained in a set with the `in` operator:"
   ],
   "cell_type": "markdown",
   "metadata": {}
  },
  {
   "cell_type": "code",
   "execution_count": 10,
   "metadata": {},
   "outputs": [
    {
     "output_type": "stream",
     "name": "stdout",
     "text": [
      "True\nFalse\n"
     ]
    }
   ],
   "source": [
    "set = { 'foo', 'bar', 'foobar' }\n",
    "print('bar' in set)\n",
    "print('fighter' in set)"
   ]
  }
 ]
}