{
 "metadata": {
  "language_info": {
   "codemirror_mode": {
    "name": "ipython",
    "version": 3
   },
   "file_extension": ".py",
   "mimetype": "text/x-python",
   "name": "python",
   "nbconvert_exporter": "python",
   "pygments_lexer": "ipython3",
   "version": "3.8.3-final"
  },
  "orig_nbformat": 2,
  "kernelspec": {
   "name": "python383jvsc74a57bd0ead85409a3df2736fa4852a03cf3afe7e5b1dbdc0e40d7d22bbcbf8cf1adf5fa",
   "display_name": "Python 3.8.3 64-bit ('base': conda)"
  }
 },
 "nbformat": 4,
 "nbformat_minor": 2,
 "cells": [
  {
   "source": [
    "# Python in Action\n",
    "## Part 1: Python Fundamentals\n",
    "### 23 &mdash; Decorators in Python\n",
    "> enhancing functions and methods with decorators"
   ],
   "cell_type": "markdown",
   "metadata": {}
  },
  {
   "source": [
    "Decorators are a way to change, enhance and alter the way a function or method works.\n",
    "\n",
    "They are defined with the symbol `@` followed by the decorator name right before the function/method definition:\n",
    "\n",
    "```python\n",
    "@logtime\n",
    "def greet_me():\n",
    "    print('hello to you!')\n",
    "```\n",
    "\n",
    "In turn, a decorator is a function that takes a function as a parameter, wraps the function in an inner function that performs the job it has to do, and returns the function:\n",
    "\n",
    "```python\n",
    "def logtime(func):\n",
    "    def wrapper():\n",
    "        # include here the preprocessing\n",
    "        val = func()\n",
    "        return val\n",
    "    return wrapper\n",
    "```"
   ],
   "cell_type": "markdown",
   "metadata": {}
  },
  {
   "cell_type": "code",
   "execution_count": 4,
   "metadata": {},
   "outputs": [
    {
     "output_type": "stream",
     "name": "stdout",
     "text": [
      ">>> about to execute function\nHello to you!\n>>> function has been called\n"
     ]
    }
   ],
   "source": [
    "def logtime(func):\n",
    "    def wrapper():\n",
    "        print('>>> about to execute function')\n",
    "        result = func()\n",
    "        print('>>> function has been called')\n",
    "        return result\n",
    "    return wrapper\n",
    "    \n",
    "@logtime\n",
    "def greet_me():\n",
    "    print('Hello to you!')\n",
    "\n",
    "greet_me()"
   ]
  },
  {
   "cell_type": "code",
   "execution_count": null,
   "metadata": {},
   "outputs": [],
   "source": []
  }
 ]
}